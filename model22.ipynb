{
 "cells": [
  {
   "cell_type": "code",
   "execution_count": 1,
   "metadata": {},
   "outputs": [],
   "source": [
    "import pandas as pd\n",
    "import numpy as np"
   ]
  },
  {
   "cell_type": "markdown",
   "metadata": {},
   "source": [
    "# Pre-Processing"
   ]
  },
  {
   "cell_type": "code",
   "execution_count": 2,
   "metadata": {},
   "outputs": [
    {
     "data": {
      "text/html": [
       "<div>\n",
       "<style scoped>\n",
       "    .dataframe tbody tr th:only-of-type {\n",
       "        vertical-align: middle;\n",
       "    }\n",
       "\n",
       "    .dataframe tbody tr th {\n",
       "        vertical-align: top;\n",
       "    }\n",
       "\n",
       "    .dataframe thead th {\n",
       "        text-align: right;\n",
       "    }\n",
       "</style>\n",
       "<table border=\"1\" class=\"dataframe\">\n",
       "  <thead>\n",
       "    <tr style=\"text-align: right;\">\n",
       "      <th></th>\n",
       "      <th>fips</th>\n",
       "      <th>% Foreign Born</th>\n",
       "      <th>Veterans</th>\n",
       "      <th>Mean Travel Time</th>\n",
       "      <th>Median Household Income</th>\n",
       "      <th>Below Poverty Level</th>\n",
       "      <th>Total Number of Firms</th>\n",
       "      <th>% Black-owned Firms</th>\n",
       "      <th>% Asian-owned Firms</th>\n",
       "      <th>% Hispanic-owned Firms</th>\n",
       "      <th>% Women-owned Firms</th>\n",
       "      <th>Manufacturers Shipments ($1000)</th>\n",
       "      <th>Retail Sales ($1000)</th>\n",
       "      <th>Retail Sales per Capita</th>\n",
       "      <th>Building permits</th>\n",
       "      <th>Population per Square Mile</th>\n",
       "      <th>Bernie Sanders</th>\n",
       "      <th>Hillary Clinton</th>\n",
       "      <th>Most Votes</th>\n",
       "    </tr>\n",
       "  </thead>\n",
       "  <tbody>\n",
       "    <tr>\n",
       "      <th>0</th>\n",
       "      <td>1001</td>\n",
       "      <td>1.6</td>\n",
       "      <td>5922</td>\n",
       "      <td>26.2</td>\n",
       "      <td>53682</td>\n",
       "      <td>12.1</td>\n",
       "      <td>4067</td>\n",
       "      <td>15.2</td>\n",
       "      <td>1.3</td>\n",
       "      <td>0.7</td>\n",
       "      <td>31.7</td>\n",
       "      <td>0</td>\n",
       "      <td>598175</td>\n",
       "      <td>12003</td>\n",
       "      <td>131</td>\n",
       "      <td>91.8</td>\n",
       "      <td>544</td>\n",
       "      <td>2387</td>\n",
       "      <td>('Votes', 'Hillary Clinton')</td>\n",
       "    </tr>\n",
       "    <tr>\n",
       "      <th>1</th>\n",
       "      <td>1003</td>\n",
       "      <td>3.6</td>\n",
       "      <td>19346</td>\n",
       "      <td>25.9</td>\n",
       "      <td>50221</td>\n",
       "      <td>13.9</td>\n",
       "      <td>19035</td>\n",
       "      <td>2.7</td>\n",
       "      <td>1.0</td>\n",
       "      <td>1.3</td>\n",
       "      <td>27.3</td>\n",
       "      <td>1410273</td>\n",
       "      <td>2966489</td>\n",
       "      <td>17166</td>\n",
       "      <td>1384</td>\n",
       "      <td>114.6</td>\n",
       "      <td>2694</td>\n",
       "      <td>5290</td>\n",
       "      <td>('Votes', 'Hillary Clinton')</td>\n",
       "    </tr>\n",
       "    <tr>\n",
       "      <th>2</th>\n",
       "      <td>1005</td>\n",
       "      <td>2.9</td>\n",
       "      <td>2120</td>\n",
       "      <td>24.6</td>\n",
       "      <td>32911</td>\n",
       "      <td>26.7</td>\n",
       "      <td>1667</td>\n",
       "      <td>0.0</td>\n",
       "      <td>0.0</td>\n",
       "      <td>0.0</td>\n",
       "      <td>27.0</td>\n",
       "      <td>0</td>\n",
       "      <td>188337</td>\n",
       "      <td>6334</td>\n",
       "      <td>8</td>\n",
       "      <td>31.0</td>\n",
       "      <td>222</td>\n",
       "      <td>2567</td>\n",
       "      <td>('Votes', 'Hillary Clinton')</td>\n",
       "    </tr>\n",
       "    <tr>\n",
       "      <th>3</th>\n",
       "      <td>1007</td>\n",
       "      <td>1.2</td>\n",
       "      <td>1327</td>\n",
       "      <td>27.6</td>\n",
       "      <td>36447</td>\n",
       "      <td>18.1</td>\n",
       "      <td>1385</td>\n",
       "      <td>14.9</td>\n",
       "      <td>0.0</td>\n",
       "      <td>0.0</td>\n",
       "      <td>0.0</td>\n",
       "      <td>0</td>\n",
       "      <td>124707</td>\n",
       "      <td>5804</td>\n",
       "      <td>19</td>\n",
       "      <td>36.8</td>\n",
       "      <td>246</td>\n",
       "      <td>942</td>\n",
       "      <td>('Votes', 'Hillary Clinton')</td>\n",
       "    </tr>\n",
       "    <tr>\n",
       "      <th>4</th>\n",
       "      <td>1009</td>\n",
       "      <td>4.3</td>\n",
       "      <td>4540</td>\n",
       "      <td>33.9</td>\n",
       "      <td>44145</td>\n",
       "      <td>15.8</td>\n",
       "      <td>4458</td>\n",
       "      <td>0.0</td>\n",
       "      <td>0.0</td>\n",
       "      <td>0.0</td>\n",
       "      <td>23.2</td>\n",
       "      <td>341544</td>\n",
       "      <td>319700</td>\n",
       "      <td>5622</td>\n",
       "      <td>3</td>\n",
       "      <td>88.9</td>\n",
       "      <td>395</td>\n",
       "      <td>564</td>\n",
       "      <td>('Votes', 'Hillary Clinton')</td>\n",
       "    </tr>\n",
       "  </tbody>\n",
       "</table>\n",
       "</div>"
      ],
      "text/plain": [
       "   fips  % Foreign Born  Veterans  Mean Travel Time  Median Household Income  \\\n",
       "0  1001             1.6      5922              26.2                    53682   \n",
       "1  1003             3.6     19346              25.9                    50221   \n",
       "2  1005             2.9      2120              24.6                    32911   \n",
       "3  1007             1.2      1327              27.6                    36447   \n",
       "4  1009             4.3      4540              33.9                    44145   \n",
       "\n",
       "   Below Poverty Level  Total Number of Firms  % Black-owned Firms  \\\n",
       "0                 12.1                   4067                 15.2   \n",
       "1                 13.9                  19035                  2.7   \n",
       "2                 26.7                   1667                  0.0   \n",
       "3                 18.1                   1385                 14.9   \n",
       "4                 15.8                   4458                  0.0   \n",
       "\n",
       "   % Asian-owned Firms  % Hispanic-owned Firms  % Women-owned Firms  \\\n",
       "0                  1.3                     0.7                 31.7   \n",
       "1                  1.0                     1.3                 27.3   \n",
       "2                  0.0                     0.0                 27.0   \n",
       "3                  0.0                     0.0                  0.0   \n",
       "4                  0.0                     0.0                 23.2   \n",
       "\n",
       "   Manufacturers Shipments ($1000)  Retail Sales ($1000)  \\\n",
       "0                                0                598175   \n",
       "1                          1410273               2966489   \n",
       "2                                0                188337   \n",
       "3                                0                124707   \n",
       "4                           341544                319700   \n",
       "\n",
       "   Retail Sales per Capita  Building permits  Population per Square Mile  \\\n",
       "0                    12003               131                        91.8   \n",
       "1                    17166              1384                       114.6   \n",
       "2                     6334                 8                        31.0   \n",
       "3                     5804                19                        36.8   \n",
       "4                     5622                 3                        88.9   \n",
       "\n",
       "   Bernie Sanders  Hillary Clinton                    Most Votes  \n",
       "0             544             2387  ('Votes', 'Hillary Clinton')  \n",
       "1            2694             5290  ('Votes', 'Hillary Clinton')  \n",
       "2             222             2567  ('Votes', 'Hillary Clinton')  \n",
       "3             246              942  ('Votes', 'Hillary Clinton')  \n",
       "4             395              564  ('Votes', 'Hillary Clinton')  "
      ]
     },
     "execution_count": 2,
     "metadata": {},
     "output_type": "execute_result"
    }
   ],
   "source": [
    "# Read the csv file into a pandas DataFrame\n",
    "file = \"dems.csv\"\n",
    "primary_data = pd.read_csv(file)\n",
    "primary_data.head()"
   ]
  },
  {
   "cell_type": "code",
   "execution_count": 3,
   "metadata": {},
   "outputs": [
    {
     "data": {
      "text/html": [
       "<div>\n",
       "<style scoped>\n",
       "    .dataframe tbody tr th:only-of-type {\n",
       "        vertical-align: middle;\n",
       "    }\n",
       "\n",
       "    .dataframe tbody tr th {\n",
       "        vertical-align: top;\n",
       "    }\n",
       "\n",
       "    .dataframe thead th {\n",
       "        text-align: right;\n",
       "    }\n",
       "</style>\n",
       "<table border=\"1\" class=\"dataframe\">\n",
       "  <thead>\n",
       "    <tr style=\"text-align: right;\">\n",
       "      <th></th>\n",
       "      <th>fips</th>\n",
       "      <th>% Foreign Born</th>\n",
       "      <th>Veterans</th>\n",
       "      <th>Mean Travel Time</th>\n",
       "      <th>Median Household Income</th>\n",
       "      <th>Below Poverty Level</th>\n",
       "      <th>Total Number of Firms</th>\n",
       "      <th>% Black-owned Firms</th>\n",
       "      <th>% Asian-owned Firms</th>\n",
       "      <th>% Hispanic-owned Firms</th>\n",
       "      <th>...</th>\n",
       "      <th>Chris Christie</th>\n",
       "      <th>Donald Trump</th>\n",
       "      <th>Jeb Bush</th>\n",
       "      <th>John Kasich</th>\n",
       "      <th>Marco Rubio</th>\n",
       "      <th>Mike Huckabee</th>\n",
       "      <th>Rand Paul</th>\n",
       "      <th>Rick Santorum</th>\n",
       "      <th>Ted Cruz</th>\n",
       "      <th>Most Votes</th>\n",
       "    </tr>\n",
       "  </thead>\n",
       "  <tbody>\n",
       "    <tr>\n",
       "      <th>0</th>\n",
       "      <td>1001</td>\n",
       "      <td>1.6</td>\n",
       "      <td>5922</td>\n",
       "      <td>26.2</td>\n",
       "      <td>53682</td>\n",
       "      <td>12.1</td>\n",
       "      <td>4067</td>\n",
       "      <td>15.2</td>\n",
       "      <td>1.3</td>\n",
       "      <td>0.7</td>\n",
       "      <td>...</td>\n",
       "      <td>0</td>\n",
       "      <td>5387</td>\n",
       "      <td>0</td>\n",
       "      <td>421</td>\n",
       "      <td>1785</td>\n",
       "      <td>0</td>\n",
       "      <td>0</td>\n",
       "      <td>0</td>\n",
       "      <td>2482</td>\n",
       "      <td>('Votes', 'Donald Trump')</td>\n",
       "    </tr>\n",
       "    <tr>\n",
       "      <th>1</th>\n",
       "      <td>1003</td>\n",
       "      <td>3.6</td>\n",
       "      <td>19346</td>\n",
       "      <td>25.9</td>\n",
       "      <td>50221</td>\n",
       "      <td>13.9</td>\n",
       "      <td>19035</td>\n",
       "      <td>2.7</td>\n",
       "      <td>1.0</td>\n",
       "      <td>1.3</td>\n",
       "      <td>...</td>\n",
       "      <td>0</td>\n",
       "      <td>23618</td>\n",
       "      <td>0</td>\n",
       "      <td>2987</td>\n",
       "      <td>9703</td>\n",
       "      <td>0</td>\n",
       "      <td>0</td>\n",
       "      <td>0</td>\n",
       "      <td>8571</td>\n",
       "      <td>('Votes', 'Donald Trump')</td>\n",
       "    </tr>\n",
       "    <tr>\n",
       "      <th>2</th>\n",
       "      <td>1005</td>\n",
       "      <td>2.9</td>\n",
       "      <td>2120</td>\n",
       "      <td>24.6</td>\n",
       "      <td>32911</td>\n",
       "      <td>26.7</td>\n",
       "      <td>1667</td>\n",
       "      <td>0.0</td>\n",
       "      <td>0.0</td>\n",
       "      <td>0.0</td>\n",
       "      <td>...</td>\n",
       "      <td>0</td>\n",
       "      <td>1710</td>\n",
       "      <td>0</td>\n",
       "      <td>123</td>\n",
       "      <td>498</td>\n",
       "      <td>0</td>\n",
       "      <td>0</td>\n",
       "      <td>0</td>\n",
       "      <td>609</td>\n",
       "      <td>('Votes', 'Donald Trump')</td>\n",
       "    </tr>\n",
       "    <tr>\n",
       "      <th>3</th>\n",
       "      <td>1007</td>\n",
       "      <td>1.2</td>\n",
       "      <td>1327</td>\n",
       "      <td>27.6</td>\n",
       "      <td>36447</td>\n",
       "      <td>18.1</td>\n",
       "      <td>1385</td>\n",
       "      <td>14.9</td>\n",
       "      <td>0.0</td>\n",
       "      <td>0.0</td>\n",
       "      <td>...</td>\n",
       "      <td>0</td>\n",
       "      <td>1959</td>\n",
       "      <td>0</td>\n",
       "      <td>84</td>\n",
       "      <td>444</td>\n",
       "      <td>0</td>\n",
       "      <td>0</td>\n",
       "      <td>0</td>\n",
       "      <td>1011</td>\n",
       "      <td>('Votes', 'Donald Trump')</td>\n",
       "    </tr>\n",
       "    <tr>\n",
       "      <th>4</th>\n",
       "      <td>1009</td>\n",
       "      <td>4.3</td>\n",
       "      <td>4540</td>\n",
       "      <td>33.9</td>\n",
       "      <td>44145</td>\n",
       "      <td>15.8</td>\n",
       "      <td>4458</td>\n",
       "      <td>0.0</td>\n",
       "      <td>0.0</td>\n",
       "      <td>0.0</td>\n",
       "      <td>...</td>\n",
       "      <td>0</td>\n",
       "      <td>7390</td>\n",
       "      <td>0</td>\n",
       "      <td>337</td>\n",
       "      <td>1843</td>\n",
       "      <td>0</td>\n",
       "      <td>0</td>\n",
       "      <td>0</td>\n",
       "      <td>3698</td>\n",
       "      <td>('Votes', 'Donald Trump')</td>\n",
       "    </tr>\n",
       "  </tbody>\n",
       "</table>\n",
       "<p>5 rows × 28 columns</p>\n",
       "</div>"
      ],
      "text/plain": [
       "   fips  % Foreign Born  Veterans  Mean Travel Time  Median Household Income  \\\n",
       "0  1001             1.6      5922              26.2                    53682   \n",
       "1  1003             3.6     19346              25.9                    50221   \n",
       "2  1005             2.9      2120              24.6                    32911   \n",
       "3  1007             1.2      1327              27.6                    36447   \n",
       "4  1009             4.3      4540              33.9                    44145   \n",
       "\n",
       "   Below Poverty Level  Total Number of Firms  % Black-owned Firms  \\\n",
       "0                 12.1                   4067                 15.2   \n",
       "1                 13.9                  19035                  2.7   \n",
       "2                 26.7                   1667                  0.0   \n",
       "3                 18.1                   1385                 14.9   \n",
       "4                 15.8                   4458                  0.0   \n",
       "\n",
       "   % Asian-owned Firms  % Hispanic-owned Firms            ...              \\\n",
       "0                  1.3                     0.7            ...               \n",
       "1                  1.0                     1.3            ...               \n",
       "2                  0.0                     0.0            ...               \n",
       "3                  0.0                     0.0            ...               \n",
       "4                  0.0                     0.0            ...               \n",
       "\n",
       "   Chris Christie  Donald Trump  Jeb Bush  John Kasich  Marco Rubio  \\\n",
       "0               0          5387         0          421         1785   \n",
       "1               0         23618         0         2987         9703   \n",
       "2               0          1710         0          123          498   \n",
       "3               0          1959         0           84          444   \n",
       "4               0          7390         0          337         1843   \n",
       "\n",
       "   Mike Huckabee  Rand Paul  Rick Santorum  Ted Cruz  \\\n",
       "0              0          0              0      2482   \n",
       "1              0          0              0      8571   \n",
       "2              0          0              0       609   \n",
       "3              0          0              0      1011   \n",
       "4              0          0              0      3698   \n",
       "\n",
       "                  Most Votes  \n",
       "0  ('Votes', 'Donald Trump')  \n",
       "1  ('Votes', 'Donald Trump')  \n",
       "2  ('Votes', 'Donald Trump')  \n",
       "3  ('Votes', 'Donald Trump')  \n",
       "4  ('Votes', 'Donald Trump')  \n",
       "\n",
       "[5 rows x 28 columns]"
      ]
     },
     "execution_count": 3,
     "metadata": {},
     "output_type": "execute_result"
    }
   ],
   "source": [
    "file2 = \"reps.csv\"\n",
    "primary_data2 = pd.read_csv(file2)\n",
    "primary_data2.head()"
   ]
  },
  {
   "cell_type": "code",
   "execution_count": 4,
   "metadata": {},
   "outputs": [
    {
     "data": {
      "text/plain": [
       "Index(['fips', '% Foreign Born', 'Veterans', 'Mean Travel Time',\n",
       "       'Median Household Income', 'Below Poverty Level',\n",
       "       'Total Number of Firms', '% Black-owned Firms', '% Asian-owned Firms',\n",
       "       '% Hispanic-owned Firms', '% Women-owned Firms',\n",
       "       'Manufacturers Shipments ($1000)', 'Retail Sales ($1000)',\n",
       "       'Retail Sales per Capita', 'Building permits',\n",
       "       'Population per Square Mile', 'Bernie Sanders', 'Hillary Clinton',\n",
       "       'Most Votes'],\n",
       "      dtype='object')"
      ]
     },
     "execution_count": 4,
     "metadata": {},
     "output_type": "execute_result"
    }
   ],
   "source": [
    "primary_data.columns"
   ]
  },
  {
   "cell_type": "code",
   "execution_count": 5,
   "metadata": {},
   "outputs": [
    {
     "data": {
      "text/plain": [
       "Index(['fips', '% Foreign Born', 'Veterans', 'Mean Travel Time',\n",
       "       'Median Household Income', 'Below Poverty Level',\n",
       "       'Total Number of Firms', '% Black-owned Firms', '% Asian-owned Firms',\n",
       "       '% Hispanic-owned Firms', '% Women-owned Firms',\n",
       "       'Manufacturers Shipments ($1000)', 'Retail Sales ($1000)',\n",
       "       'Retail Sales per Capita', 'Building permits',\n",
       "       'Population per Square Mile', 'Ben Carson', 'Carly Fiorina',\n",
       "       'Chris Christie', 'Donald Trump', 'Jeb Bush', 'John Kasich',\n",
       "       'Marco Rubio', 'Mike Huckabee', 'Rand Paul', 'Rick Santorum',\n",
       "       'Ted Cruz', 'Most Votes'],\n",
       "      dtype='object')"
      ]
     },
     "execution_count": 5,
     "metadata": {},
     "output_type": "execute_result"
    }
   ],
   "source": [
    "primary_data2.columns"
   ]
  },
  {
   "cell_type": "code",
   "execution_count": 6,
   "metadata": {},
   "outputs": [
    {
     "name": "stdout",
     "output_type": "stream",
     "text": [
      "(2711, 15) (2711, 1)\n"
     ]
    }
   ],
   "source": [
    " #Assign X (data) and y (target)\n",
    "\n",
    "## BEGIN SOLUTION\n",
    "X2 = primary_data2[['% Foreign Born', 'Veterans', 'Mean Travel Time',\n",
    "       'Median Household Income', 'Below Poverty Level',\n",
    "       'Total Number of Firms', '% Black-owned Firms', '% Asian-owned Firms',\n",
    "       '% Hispanic-owned Firms', '% Women-owned Firms',\n",
    "       'Manufacturers Shipments ($1000)', 'Retail Sales ($1000)',\n",
    "       'Retail Sales per Capita', 'Building permits',\n",
    "       'Population per Square Mile']]\n",
    "\n",
    "y2 = primary_data2[['Most Votes']]\n",
    "print(X2.shape, y2.shape)\n",
    "### END SOLUTION"
   ]
  },
  {
   "cell_type": "code",
   "execution_count": 7,
   "metadata": {},
   "outputs": [
    {
     "name": "stdout",
     "output_type": "stream",
     "text": [
      "(2798, 15) (2798, 1)\n"
     ]
    }
   ],
   "source": [
    "# Assign X (data) and y (target)\n",
    "\n",
    "## BEGIN SOLUTION\n",
    "X = primary_data[['% Foreign Born', 'Veterans', 'Mean Travel Time',\n",
    "       'Median Household Income', 'Below Poverty Level',\n",
    "       'Total Number of Firms', '% Black-owned Firms', '% Asian-owned Firms',\n",
    "       '% Hispanic-owned Firms', '% Women-owned Firms',\n",
    "       'Manufacturers Shipments ($1000)', 'Retail Sales ($1000)',\n",
    "       'Retail Sales per Capita', 'Building permits',\n",
    "       'Population per Square Mile']]\n",
    "\n",
    "y = primary_data[['Most Votes']]\n",
    "print(X.shape, y.shape)\n",
    "### END SOLUTION"
   ]
  },
  {
   "cell_type": "code",
   "execution_count": 8,
   "metadata": {},
   "outputs": [
    {
     "name": "stderr",
     "output_type": "stream",
     "text": [
      "C:\\Users\\cobin\\Anaconda3\\lib\\site-packages\\sklearn\\preprocessing\\label.py:219: DataConversionWarning: A column-vector y was passed when a 1d array was expected. Please change the shape of y to (n_samples, ), for example using ravel().\n",
      "  y = column_or_1d(y, warn=True)\n",
      "C:\\Users\\cobin\\Anaconda3\\lib\\site-packages\\sklearn\\preprocessing\\label.py:252: DataConversionWarning: A column-vector y was passed when a 1d array was expected. Please change the shape of y to (n_samples, ), for example using ravel().\n",
      "  y = column_or_1d(y, warn=True)\n"
     ]
    }
   ],
   "source": [
    "from sklearn.preprocessing import LabelEncoder\n",
    "\n",
    "# Step 1: Label-encode data set\n",
    "label_encoder = LabelEncoder()\n",
    "label_encoder2 = LabelEncoder()\n",
    "label_encoder.fit(y)\n",
    "label_encoder2.fit(y2)\n",
    "encoded_y = label_encoder.transform(y)\n",
    "encoded_y2 = label_encoder2.transform(y2)"
   ]
  },
  {
   "cell_type": "code",
   "execution_count": 9,
   "metadata": {},
   "outputs": [
    {
     "name": "stdout",
     "output_type": "stream",
     "text": [
      "Original Class: Most Votes\n",
      "Encoded Label: 2\n",
      "------------\n"
     ]
    }
   ],
   "source": [
    "for label, original_class in zip(encoded_y, y):\n",
    "    print('Original Class: ' + str(original_class))\n",
    "    print('Encoded Label: ' + str(label))\n",
    "    print('-' * 12)"
   ]
  },
  {
   "cell_type": "code",
   "execution_count": 10,
   "metadata": {},
   "outputs": [
    {
     "name": "stdout",
     "output_type": "stream",
     "text": [
      "Original Class: Most Votes\n",
      "Encoded Label: 1\n",
      "------------\n"
     ]
    }
   ],
   "source": [
    "for label, original_class in zip(encoded_y2, y2):\n",
    "    print('Original Class: ' + str(original_class))\n",
    "    print('Encoded Label: ' + str(label))\n",
    "    print('-' * 12)"
   ]
  },
  {
   "cell_type": "code",
   "execution_count": 11,
   "metadata": {},
   "outputs": [],
   "source": [
    "# Split the data into training and testing\n",
    "\n",
    "### BEGIN SOLUTION\n",
    "from sklearn.model_selection import train_test_split\n",
    "\n",
    "X_train, X_test, y_train, y_test = train_test_split(X, encoded_y, random_state=10)\n",
    "X_train2, X_test2, y_train2, y_test2 = train_test_split(X2, encoded_y2, random_state=10)\n",
    "### END SOLUTION"
   ]
  },
  {
   "cell_type": "code",
   "execution_count": 12,
   "metadata": {
    "nbgrader": {
     "grade": false,
     "grade_id": "cell-7e1de5d9b7942f68",
     "locked": false,
     "schema_version": 1,
     "solution": true
    }
   },
   "outputs": [
    {
     "name": "stderr",
     "output_type": "stream",
     "text": [
      "C:\\Users\\cobin\\Anaconda3\\lib\\site-packages\\sklearn\\preprocessing\\data.py:617: DataConversionWarning: Data with input dtype int64, float64 were all converted to float64 by StandardScaler.\n",
      "  return self.partial_fit(X, y)\n",
      "C:\\Users\\cobin\\Anaconda3\\lib\\site-packages\\sklearn\\preprocessing\\data.py:617: DataConversionWarning: Data with input dtype int64, float64 were all converted to float64 by StandardScaler.\n",
      "  return self.partial_fit(X, y)\n"
     ]
    }
   ],
   "source": [
    "from sklearn.preprocessing import StandardScaler\n",
    "\n",
    "# Create a StandardScater model and fit it to the training data\n",
    "X_scaler = StandardScaler().fit(X_train)\n",
    "X_scaler2 = StandardScaler().fit(X_train2)"
   ]
  },
  {
   "cell_type": "code",
   "execution_count": 13,
   "metadata": {
    "nbgrader": {
     "grade": false,
     "grade_id": "cell-9532e12246e485d5",
     "locked": false,
     "schema_version": 1,
     "solution": true
    }
   },
   "outputs": [
    {
     "name": "stderr",
     "output_type": "stream",
     "text": [
      "C:\\Users\\cobin\\Anaconda3\\lib\\site-packages\\ipykernel_launcher.py:3: DataConversionWarning: Data with input dtype int64, float64 were all converted to float64 by StandardScaler.\n",
      "  This is separate from the ipykernel package so we can avoid doing imports until\n",
      "C:\\Users\\cobin\\Anaconda3\\lib\\site-packages\\ipykernel_launcher.py:4: DataConversionWarning: Data with input dtype int64, float64 were all converted to float64 by StandardScaler.\n",
      "  after removing the cwd from sys.path.\n",
      "C:\\Users\\cobin\\Anaconda3\\lib\\site-packages\\ipykernel_launcher.py:5: DataConversionWarning: Data with input dtype int64, float64 were all converted to float64 by StandardScaler.\n",
      "  \"\"\"\n",
      "C:\\Users\\cobin\\Anaconda3\\lib\\site-packages\\ipykernel_launcher.py:6: DataConversionWarning: Data with input dtype int64, float64 were all converted to float64 by StandardScaler.\n",
      "  \n"
     ]
    }
   ],
   "source": [
    "# Transform the training and testing data using the X_scaler\n",
    "\n",
    "X_train_scaled = X_scaler.transform(X_train)\n",
    "X_test_scaled = X_scaler.transform(X_test)\n",
    "X_train_scaled2 = X_scaler2.transform(X_train2)\n",
    "X_test_scaled2 = X_scaler2.transform(X_test2)"
   ]
  },
  {
   "cell_type": "code",
   "execution_count": 14,
   "metadata": {},
   "outputs": [
    {
     "data": {
      "text/plain": [
       "array([\"('Votes', 'Hillary Clinton')\", \"('Votes', 'Bernie Sanders')\",\n",
       "       \"('Votes', 'Bernie Sanders')\", \"('Votes', 'Hillary Clinton')\",\n",
       "       \"('Votes', 'Hillary Clinton')\", \"('Votes', 'Hillary Clinton')\",\n",
       "       \"('Votes', 'Bernie Sanders')\", \"('Votes', 'Hillary Clinton')\",\n",
       "       \"('Votes', 'Bernie Sanders')\", \"('Votes', 'Hillary Clinton')\",\n",
       "       \"('Votes', 'Bernie Sanders')\", \"('Votes', 'Bernie Sanders')\",\n",
       "       \"('Votes', 'Hillary Clinton')\", \"('Votes', 'Hillary Clinton')\",\n",
       "       \"('Votes', 'Hillary Clinton')\", \"('Votes', 'Hillary Clinton')\",\n",
       "       \"('Votes', 'Hillary Clinton')\", \"('Votes', 'Hillary Clinton')\",\n",
       "       \"('Votes', 'Bernie Sanders')\", \"('Votes', 'Bernie Sanders')\",\n",
       "       \"('Votes', 'Hillary Clinton')\", \"('Votes', 'Bernie Sanders')\",\n",
       "       \"('Votes', 'Bernie Sanders')\", \"('Votes', 'Hillary Clinton')\",\n",
       "       \"('Votes', 'Bernie Sanders')\", \"('Votes', 'Bernie Sanders')\",\n",
       "       \"('Votes', 'Bernie Sanders')\", \"('Votes', 'Bernie Sanders')\",\n",
       "       \"('Votes', 'Hillary Clinton')\", \"('Votes', 'Bernie Sanders')\",\n",
       "       \"('Votes', 'Bernie Sanders')\", \"('Votes', 'Bernie Sanders')\",\n",
       "       \"('Votes', 'Bernie Sanders')\", \"('Votes', 'Hillary Clinton')\",\n",
       "       \"('Votes', 'Bernie Sanders')\", \"('Votes', 'Hillary Clinton')\",\n",
       "       \"('Votes', 'Bernie Sanders')\", \"('Votes', 'Bernie Sanders')\",\n",
       "       \"('Votes', 'Bernie Sanders')\", \"('Votes', 'Hillary Clinton')\",\n",
       "       \"('Votes', 'Bernie Sanders')\", \"('Votes', 'Bernie Sanders')\",\n",
       "       \"('Votes', 'Hillary Clinton')\", \"('Votes', 'Bernie Sanders')\",\n",
       "       \"('Votes', 'Bernie Sanders')\", \"('Votes', 'Hillary Clinton')\",\n",
       "       \"('Votes', 'Bernie Sanders')\", \"('Votes', 'Hillary Clinton')\",\n",
       "       \"('Votes', 'Hillary Clinton')\", \"('Votes', 'Hillary Clinton')\",\n",
       "       \"('Votes', 'Bernie Sanders')\", \"('Votes', 'Hillary Clinton')\",\n",
       "       \"('Votes', 'Hillary Clinton')\", \"('Votes', 'Hillary Clinton')\",\n",
       "       \"('Votes', 'Bernie Sanders')\", \"('Votes', 'Hillary Clinton')\",\n",
       "       \"('Votes', 'Hillary Clinton')\", \"('Votes', 'Bernie Sanders')\",\n",
       "       \"('Votes', 'Hillary Clinton')\", \"('Votes', 'Bernie Sanders')\",\n",
       "       \"('Votes', 'Bernie Sanders')\", \"('Votes', 'Hillary Clinton')\",\n",
       "       \"('Votes', 'Hillary Clinton')\", \"('Votes', 'Hillary Clinton')\",\n",
       "       \"('Votes', 'Hillary Clinton')\", \"('Votes', 'Hillary Clinton')\",\n",
       "       \"('Votes', 'Hillary Clinton')\", \"('Votes', 'Hillary Clinton')\",\n",
       "       \"('Votes', 'Hillary Clinton')\", \"('Votes', 'Bernie Sanders')\",\n",
       "       \"('Votes', 'Bernie Sanders')\", \"('Votes', 'Bernie Sanders')\",\n",
       "       \"('Votes', 'Hillary Clinton')\", \"('Votes', 'Hillary Clinton')\",\n",
       "       \"('Votes', 'Hillary Clinton')\", \"('Votes', 'Bernie Sanders')\",\n",
       "       \"('Votes', 'Hillary Clinton')\", \"('Votes', 'Bernie Sanders')\",\n",
       "       \"('Votes', 'Hillary Clinton')\", \"('Votes', 'Hillary Clinton')\",\n",
       "       \"('Votes', 'Bernie Sanders')\", \"('Votes', 'Bernie Sanders')\",\n",
       "       \"('Votes', 'Bernie Sanders')\", \"('Votes', 'Bernie Sanders')\",\n",
       "       \"('Votes', 'Bernie Sanders')\", \"('Votes', 'Hillary Clinton')\",\n",
       "       \"('Votes', 'Hillary Clinton')\", \"('Votes', 'Bernie Sanders')\",\n",
       "       \"('Votes', 'Hillary Clinton')\", \"('Votes', 'Bernie Sanders')\",\n",
       "       \"('Votes', 'Hillary Clinton')\", \"('Votes', 'Bernie Sanders')\",\n",
       "       \"('Votes', 'Hillary Clinton')\", \"('Votes', 'Hillary Clinton')\",\n",
       "       \"('Votes', 'Hillary Clinton')\", \"('Votes', 'Hillary Clinton')\",\n",
       "       \"('Votes', 'Bernie Sanders')\", \"('Votes', 'Bernie Sanders')\",\n",
       "       \"('Votes', 'Bernie Sanders')\", \"('Votes', 'Hillary Clinton')\",\n",
       "       \"('Votes', 'Bernie Sanders')\", \"('Votes', 'Bernie Sanders')\",\n",
       "       \"('Votes', 'Hillary Clinton')\", \"('Votes', 'Bernie Sanders')\",\n",
       "       \"('Votes', 'Hillary Clinton')\", \"('Votes', 'Hillary Clinton')\",\n",
       "       \"('Votes', 'Bernie Sanders')\", \"('Votes', 'Hillary Clinton')\",\n",
       "       \"('Votes', 'Bernie Sanders')\", \"('Votes', 'Bernie Sanders')\",\n",
       "       \"('Votes', 'Bernie Sanders')\", \"('Votes', 'Hillary Clinton')\",\n",
       "       \"('Votes', 'Hillary Clinton')\", \"('Votes', 'Hillary Clinton')\",\n",
       "       \"('Votes', 'Hillary Clinton')\", \"('Votes', 'Bernie Sanders')\",\n",
       "       \"('Votes', 'Bernie Sanders')\", \"('Votes', 'Hillary Clinton')\",\n",
       "       \"('Votes', 'Bernie Sanders')\", \"('Votes', 'Hillary Clinton')\",\n",
       "       \"('Votes', 'Hillary Clinton')\", \"('Votes', 'Hillary Clinton')\",\n",
       "       \"('Votes', 'Bernie Sanders')\", \"('Votes', 'Bernie Sanders')\",\n",
       "       \"('Votes', 'Hillary Clinton')\", \"('Votes', 'Hillary Clinton')\",\n",
       "       \"('Votes', 'Bernie Sanders')\", \"('Votes', 'Bernie Sanders')\",\n",
       "       \"('Votes', 'Hillary Clinton')\", \"('Votes', 'Bernie Sanders')\",\n",
       "       \"('Votes', 'Bernie Sanders')\", \"('Votes', 'Bernie Sanders')\",\n",
       "       \"('Votes', 'Hillary Clinton')\", \"('Votes', 'Hillary Clinton')\",\n",
       "       \"('Votes', 'Bernie Sanders')\", \"('Votes', 'Bernie Sanders')\",\n",
       "       \"('Votes', 'Hillary Clinton')\", \"('Votes', 'Bernie Sanders')\",\n",
       "       \"('Votes', 'Hillary Clinton')\", \"('Votes', 'Hillary Clinton')\",\n",
       "       \"('Votes', 'Hillary Clinton')\", \"('Votes', 'Bernie Sanders')\",\n",
       "       \"('Votes', 'Hillary Clinton')\", \"('Votes', 'Bernie Sanders')\",\n",
       "       \"('Votes', 'Hillary Clinton')\", \"('Votes', 'Bernie Sanders')\",\n",
       "       \"('Votes', 'Hillary Clinton')\", \"('Votes', 'Hillary Clinton')\",\n",
       "       \"('Votes', 'Hillary Clinton')\", \"('Votes', 'Bernie Sanders')\",\n",
       "       \"('Votes', 'Bernie Sanders')\", \"('Votes', 'Hillary Clinton')\",\n",
       "       \"('Votes', 'Bernie Sanders')\", \"('Votes', 'Bernie Sanders')\",\n",
       "       \"('Votes', 'Hillary Clinton')\", \"('Votes', 'Hillary Clinton')\",\n",
       "       \"('Votes', 'Bernie Sanders')\", \"('Votes', 'Bernie Sanders')\",\n",
       "       \"('Votes', 'Hillary Clinton')\", \"('Votes', 'Bernie Sanders')\",\n",
       "       \"('Votes', 'Hillary Clinton')\", \"('Votes', 'Hillary Clinton')\",\n",
       "       \"('Votes', 'Hillary Clinton')\", \"('Votes', ' No Preference')\",\n",
       "       \"('Votes', 'Bernie Sanders')\", \"('Votes', 'Bernie Sanders')\",\n",
       "       \"('Votes', 'Hillary Clinton')\", \"('Votes', 'Bernie Sanders')\",\n",
       "       \"('Votes', 'Hillary Clinton')\", \"('Votes', 'Hillary Clinton')\",\n",
       "       \"('Votes', 'Hillary Clinton')\", \"('Votes', 'Bernie Sanders')\",\n",
       "       \"('Votes', 'Hillary Clinton')\", \"('Votes', 'Hillary Clinton')\",\n",
       "       \"('Votes', 'Hillary Clinton')\", \"('Votes', 'Hillary Clinton')\",\n",
       "       \"('Votes', 'Bernie Sanders')\", \"('Votes', 'Hillary Clinton')\",\n",
       "       \"('Votes', 'Hillary Clinton')\", \"('Votes', 'Bernie Sanders')\",\n",
       "       \"('Votes', 'Bernie Sanders')\", \"('Votes', 'Hillary Clinton')\",\n",
       "       \"('Votes', 'Bernie Sanders')\", \"('Votes', 'Hillary Clinton')\",\n",
       "       \"('Votes', 'Hillary Clinton')\", \"('Votes', 'Hillary Clinton')\",\n",
       "       \"('Votes', 'Hillary Clinton')\", \"('Votes', 'Hillary Clinton')\",\n",
       "       \"('Votes', 'Bernie Sanders')\", \"('Votes', 'Bernie Sanders')\",\n",
       "       \"('Votes', 'Bernie Sanders')\", \"('Votes', 'Bernie Sanders')\",\n",
       "       \"('Votes', 'Bernie Sanders')\", \"('Votes', 'Hillary Clinton')\",\n",
       "       \"('Votes', 'Hillary Clinton')\", \"('Votes', 'Hillary Clinton')\",\n",
       "       \"('Votes', 'Hillary Clinton')\", \"('Votes', 'Hillary Clinton')\",\n",
       "       \"('Votes', 'Hillary Clinton')\", \"('Votes', 'Bernie Sanders')\",\n",
       "       \"('Votes', 'Bernie Sanders')\", \"('Votes', 'Hillary Clinton')\",\n",
       "       \"('Votes', 'Hillary Clinton')\", \"('Votes', 'Bernie Sanders')\",\n",
       "       \"('Votes', 'Bernie Sanders')\", \"('Votes', 'Bernie Sanders')\",\n",
       "       \"('Votes', 'Hillary Clinton')\", \"('Votes', 'Hillary Clinton')\",\n",
       "       \"('Votes', 'Bernie Sanders')\", \"('Votes', 'Hillary Clinton')\",\n",
       "       \"('Votes', 'Bernie Sanders')\", \"('Votes', 'Bernie Sanders')\",\n",
       "       \"('Votes', 'Hillary Clinton')\", \"('Votes', 'Hillary Clinton')\",\n",
       "       \"('Votes', 'Hillary Clinton')\", \"('Votes', 'Bernie Sanders')\",\n",
       "       \"('Votes', 'Bernie Sanders')\", \"('Votes', 'Bernie Sanders')\",\n",
       "       \"('Votes', 'Hillary Clinton')\", \"('Votes', 'Hillary Clinton')\",\n",
       "       \"('Votes', 'Hillary Clinton')\", \"('Votes', 'Hillary Clinton')\",\n",
       "       \"('Votes', 'Hillary Clinton')\", \"('Votes', 'Hillary Clinton')\",\n",
       "       \"('Votes', 'Hillary Clinton')\", \"('Votes', 'Hillary Clinton')\",\n",
       "       \"('Votes', 'Bernie Sanders')\", \"('Votes', 'Bernie Sanders')\",\n",
       "       \"('Votes', 'Bernie Sanders')\", \"('Votes', 'Hillary Clinton')\",\n",
       "       \"('Votes', 'Hillary Clinton')\", \"('Votes', 'Bernie Sanders')\",\n",
       "       \"('Votes', 'Hillary Clinton')\", \"('Votes', 'Hillary Clinton')\",\n",
       "       \"('Votes', 'Bernie Sanders')\", \"('Votes', 'Bernie Sanders')\",\n",
       "       \"('Votes', 'Bernie Sanders')\", \"('Votes', 'Bernie Sanders')\",\n",
       "       \"('Votes', 'Bernie Sanders')\", \"('Votes', 'Bernie Sanders')\",\n",
       "       \"('Votes', 'Hillary Clinton')\", \"('Votes', 'Hillary Clinton')\",\n",
       "       \"('Votes', 'Bernie Sanders')\", \"('Votes', 'Bernie Sanders')\",\n",
       "       \"('Votes', 'Hillary Clinton')\", \"('Votes', 'Hillary Clinton')\",\n",
       "       \"('Votes', 'Hillary Clinton')\", \"('Votes', 'Bernie Sanders')\",\n",
       "       \"('Votes', 'Bernie Sanders')\", \"('Votes', 'Hillary Clinton')\",\n",
       "       \"('Votes', 'Hillary Clinton')\", \"('Votes', 'Hillary Clinton')\",\n",
       "       \"('Votes', 'Hillary Clinton')\", \"('Votes', 'Bernie Sanders')\",\n",
       "       \"('Votes', 'Hillary Clinton')\", \"('Votes', 'Bernie Sanders')\",\n",
       "       \"('Votes', 'Hillary Clinton')\", \"('Votes', 'Hillary Clinton')\",\n",
       "       \"('Votes', 'Bernie Sanders')\", \"('Votes', 'Hillary Clinton')\",\n",
       "       \"('Votes', 'Bernie Sanders')\", \"('Votes', 'Hillary Clinton')\",\n",
       "       \"('Votes', 'Hillary Clinton')\", \"('Votes', 'Bernie Sanders')\",\n",
       "       \"('Votes', 'Hillary Clinton')\", \"('Votes', 'Hillary Clinton')\",\n",
       "       \"('Votes', 'Bernie Sanders')\", \"('Votes', 'Hillary Clinton')\",\n",
       "       \"('Votes', 'Bernie Sanders')\", \"('Votes', 'Bernie Sanders')\",\n",
       "       \"('Votes', 'Bernie Sanders')\", \"('Votes', 'Bernie Sanders')\",\n",
       "       \"('Votes', 'Hillary Clinton')\", \"('Votes', 'Hillary Clinton')\",\n",
       "       \"('Votes', 'Hillary Clinton')\", \"('Votes', 'Hillary Clinton')\",\n",
       "       \"('Votes', 'Hillary Clinton')\", \"('Votes', 'Bernie Sanders')\",\n",
       "       \"('Votes', 'Bernie Sanders')\", \"('Votes', 'Hillary Clinton')\",\n",
       "       \"('Votes', 'Hillary Clinton')\", \"('Votes', 'Bernie Sanders')\",\n",
       "       \"('Votes', 'Hillary Clinton')\", \"('Votes', 'Bernie Sanders')\",\n",
       "       \"('Votes', 'Bernie Sanders')\", \"('Votes', 'Bernie Sanders')\",\n",
       "       \"('Votes', 'Hillary Clinton')\", \"('Votes', 'Hillary Clinton')\",\n",
       "       \"('Votes', 'Hillary Clinton')\", \"('Votes', 'Hillary Clinton')\",\n",
       "       \"('Votes', 'Bernie Sanders')\", \"('Votes', 'Hillary Clinton')\",\n",
       "       \"('Votes', 'Hillary Clinton')\", \"('Votes', 'Hillary Clinton')\",\n",
       "       \"('Votes', 'Hillary Clinton')\", \"('Votes', 'Bernie Sanders')\",\n",
       "       \"('Votes', 'Hillary Clinton')\", \"('Votes', 'Hillary Clinton')\",\n",
       "       \"('Votes', 'Hillary Clinton')\", \"('Votes', 'Hillary Clinton')\",\n",
       "       \"('Votes', 'Bernie Sanders')\", \"('Votes', 'Bernie Sanders')\",\n",
       "       \"('Votes', 'Bernie Sanders')\", \"('Votes', 'Hillary Clinton')\",\n",
       "       \"('Votes', 'Hillary Clinton')\", \"('Votes', 'Hillary Clinton')\",\n",
       "       \"('Votes', 'Hillary Clinton')\", \"('Votes', 'Hillary Clinton')\",\n",
       "       \"('Votes', 'Bernie Sanders')\", \"('Votes', 'Hillary Clinton')\",\n",
       "       \"('Votes', 'Bernie Sanders')\", \"('Votes', 'Hillary Clinton')\",\n",
       "       \"('Votes', 'Bernie Sanders')\", \"('Votes', 'Bernie Sanders')\",\n",
       "       \"('Votes', 'Bernie Sanders')\", \"('Votes', 'Hillary Clinton')\",\n",
       "       \"('Votes', 'Bernie Sanders')\", \"('Votes', 'Bernie Sanders')\",\n",
       "       \"('Votes', 'Hillary Clinton')\", \"('Votes', 'Bernie Sanders')\",\n",
       "       \"('Votes', 'Hillary Clinton')\", \"('Votes', 'Hillary Clinton')\",\n",
       "       \"('Votes', 'Hillary Clinton')\", \"('Votes', 'Bernie Sanders')\",\n",
       "       \"('Votes', 'Bernie Sanders')\", \"('Votes', 'Hillary Clinton')\",\n",
       "       \"('Votes', 'Bernie Sanders')\", \"('Votes', 'Hillary Clinton')\",\n",
       "       \"('Votes', 'Hillary Clinton')\", \"('Votes', 'Hillary Clinton')\",\n",
       "       \"('Votes', 'Hillary Clinton')\", \"('Votes', 'Hillary Clinton')\",\n",
       "       \"('Votes', 'Hillary Clinton')\", \"('Votes', 'Hillary Clinton')\",\n",
       "       \"('Votes', 'Hillary Clinton')\", \"('Votes', 'Hillary Clinton')\",\n",
       "       \"('Votes', 'Bernie Sanders')\", \"('Votes', 'Hillary Clinton')\",\n",
       "       \"('Votes', 'Bernie Sanders')\", \"('Votes', 'Bernie Sanders')\",\n",
       "       \"('Votes', 'Hillary Clinton')\", \"('Votes', 'Bernie Sanders')\",\n",
       "       \"('Votes', 'Hillary Clinton')\", \"('Votes', 'Hillary Clinton')\",\n",
       "       \"('Votes', 'Bernie Sanders')\", \"('Votes', 'Hillary Clinton')\",\n",
       "       \"('Votes', 'Bernie Sanders')\", \"('Votes', 'Hillary Clinton')\",\n",
       "       \"('Votes', 'Hillary Clinton')\", \"('Votes', 'Bernie Sanders')\",\n",
       "       \"('Votes', 'Hillary Clinton')\", \"('Votes', 'Hillary Clinton')\",\n",
       "       \"('Votes', 'Hillary Clinton')\", \"('Votes', 'Hillary Clinton')\",\n",
       "       \"('Votes', 'Bernie Sanders')\", \"('Votes', 'Hillary Clinton')\",\n",
       "       \"('Votes', 'Bernie Sanders')\", \"('Votes', 'Hillary Clinton')\",\n",
       "       \"('Votes', 'Hillary Clinton')\", \"('Votes', 'Bernie Sanders')\",\n",
       "       \"('Votes', 'Bernie Sanders')\", \"('Votes', 'Bernie Sanders')\",\n",
       "       \"('Votes', 'Bernie Sanders')\", \"('Votes', 'Bernie Sanders')\",\n",
       "       \"('Votes', 'Hillary Clinton')\", \"('Votes', 'Hillary Clinton')\",\n",
       "       \"('Votes', 'Bernie Sanders')\", \"('Votes', 'Hillary Clinton')\",\n",
       "       \"('Votes', 'Hillary Clinton')\", \"('Votes', 'Hillary Clinton')\",\n",
       "       \"('Votes', 'Bernie Sanders')\", \"('Votes', 'Bernie Sanders')\",\n",
       "       \"('Votes', 'Hillary Clinton')\", \"('Votes', 'Bernie Sanders')\",\n",
       "       \"('Votes', 'Hillary Clinton')\", \"('Votes', 'Hillary Clinton')\",\n",
       "       \"('Votes', 'Hillary Clinton')\", \"('Votes', 'Bernie Sanders')\",\n",
       "       \"('Votes', 'Hillary Clinton')\", \"('Votes', 'Hillary Clinton')\",\n",
       "       \"('Votes', 'Hillary Clinton')\", \"('Votes', 'Hillary Clinton')\",\n",
       "       \"('Votes', 'Hillary Clinton')\", \"('Votes', 'Hillary Clinton')\",\n",
       "       \"('Votes', 'Hillary Clinton')\", \"('Votes', 'Bernie Sanders')\",\n",
       "       \"('Votes', 'Hillary Clinton')\", \"('Votes', 'Hillary Clinton')\",\n",
       "       \"('Votes', 'Hillary Clinton')\", \"('Votes', 'Hillary Clinton')\",\n",
       "       \"('Votes', 'Hillary Clinton')\", \"('Votes', 'Hillary Clinton')\",\n",
       "       \"('Votes', 'Hillary Clinton')\", \"('Votes', 'Hillary Clinton')\",\n",
       "       \"('Votes', 'Hillary Clinton')\", \"('Votes', 'Hillary Clinton')\",\n",
       "       \"('Votes', 'Hillary Clinton')\", \"('Votes', 'Hillary Clinton')\",\n",
       "       \"('Votes', 'Hillary Clinton')\", \"('Votes', 'Bernie Sanders')\",\n",
       "       \"('Votes', 'Bernie Sanders')\", \"('Votes', 'Hillary Clinton')\",\n",
       "       \"('Votes', 'Hillary Clinton')\", \"('Votes', 'Hillary Clinton')\",\n",
       "       \"('Votes', 'Hillary Clinton')\", \"('Votes', 'Bernie Sanders')\",\n",
       "       \"('Votes', 'Hillary Clinton')\", \"('Votes', 'Hillary Clinton')\",\n",
       "       \"('Votes', 'Hillary Clinton')\", \"('Votes', 'Hillary Clinton')\",\n",
       "       \"('Votes', 'Bernie Sanders')\", \"('Votes', 'Hillary Clinton')\",\n",
       "       \"('Votes', 'Bernie Sanders')\", \"('Votes', 'Bernie Sanders')\",\n",
       "       \"('Votes', 'Hillary Clinton')\", \"('Votes', 'Hillary Clinton')\",\n",
       "       \"('Votes', 'Hillary Clinton')\", \"('Votes', 'Hillary Clinton')\",\n",
       "       \"('Votes', 'Bernie Sanders')\", \"('Votes', 'Bernie Sanders')\",\n",
       "       \"('Votes', 'Hillary Clinton')\", \"('Votes', 'Hillary Clinton')\",\n",
       "       \"('Votes', 'Bernie Sanders')\", \"('Votes', 'Bernie Sanders')\",\n",
       "       \"('Votes', 'Hillary Clinton')\", \"('Votes', 'Bernie Sanders')\",\n",
       "       \"('Votes', 'Bernie Sanders')\", \"('Votes', 'Hillary Clinton')\",\n",
       "       \"('Votes', 'Bernie Sanders')\", \"('Votes', 'Bernie Sanders')\",\n",
       "       \"('Votes', 'Hillary Clinton')\", \"('Votes', 'Bernie Sanders')\",\n",
       "       \"('Votes', 'Bernie Sanders')\", \"('Votes', 'Bernie Sanders')\",\n",
       "       \"('Votes', 'Hillary Clinton')\", \"('Votes', 'Hillary Clinton')\",\n",
       "       \"('Votes', 'Hillary Clinton')\", \"('Votes', 'Hillary Clinton')\",\n",
       "       \"('Votes', 'Bernie Sanders')\", \"('Votes', 'Hillary Clinton')\",\n",
       "       \"('Votes', 'Hillary Clinton')\", \"('Votes', 'Bernie Sanders')\",\n",
       "       \"('Votes', 'Hillary Clinton')\", \"('Votes', 'Hillary Clinton')\",\n",
       "       \"('Votes', 'Hillary Clinton')\", \"('Votes', 'Hillary Clinton')\",\n",
       "       \"('Votes', 'Bernie Sanders')\", \"('Votes', 'Hillary Clinton')\",\n",
       "       \"('Votes', 'Bernie Sanders')\", \"('Votes', 'Hillary Clinton')\",\n",
       "       \"('Votes', 'Bernie Sanders')\", \"('Votes', 'Hillary Clinton')\",\n",
       "       \"('Votes', 'Hillary Clinton')\", \"('Votes', 'Bernie Sanders')\",\n",
       "       \"('Votes', 'Bernie Sanders')\", \"('Votes', 'Hillary Clinton')\",\n",
       "       \"('Votes', 'Hillary Clinton')\", \"('Votes', 'Bernie Sanders')\",\n",
       "       \"('Votes', 'Hillary Clinton')\", \"('Votes', 'Hillary Clinton')\",\n",
       "       \"('Votes', 'Bernie Sanders')\", \"('Votes', 'Bernie Sanders')\",\n",
       "       \"('Votes', 'Hillary Clinton')\", \"('Votes', 'Hillary Clinton')\",\n",
       "       \"('Votes', 'Hillary Clinton')\", \"('Votes', 'Hillary Clinton')\",\n",
       "       \"('Votes', 'Bernie Sanders')\", \"('Votes', 'Bernie Sanders')\",\n",
       "       \"('Votes', 'Bernie Sanders')\", \"('Votes', 'Hillary Clinton')\",\n",
       "       \"('Votes', 'Bernie Sanders')\", \"('Votes', 'Bernie Sanders')\",\n",
       "       \"('Votes', 'Bernie Sanders')\", \"('Votes', 'Hillary Clinton')\",\n",
       "       \"('Votes', 'Hillary Clinton')\", \"('Votes', 'Hillary Clinton')\",\n",
       "       \"('Votes', 'Hillary Clinton')\", \"('Votes', 'Bernie Sanders')\",\n",
       "       \"('Votes', 'Bernie Sanders')\", \"('Votes', 'Bernie Sanders')\",\n",
       "       \"('Votes', 'Hillary Clinton')\", \"('Votes', 'Bernie Sanders')\",\n",
       "       \"('Votes', 'Bernie Sanders')\", \"('Votes', 'Hillary Clinton')\",\n",
       "       \"('Votes', 'Hillary Clinton')\", \"('Votes', 'Hillary Clinton')\",\n",
       "       \"('Votes', 'Bernie Sanders')\", \"('Votes', 'Hillary Clinton')\",\n",
       "       \"('Votes', 'Bernie Sanders')\", \"('Votes', 'Hillary Clinton')\",\n",
       "       \"('Votes', 'Hillary Clinton')\", \"('Votes', 'Bernie Sanders')\",\n",
       "       \"('Votes', 'Bernie Sanders')\", \"('Votes', 'Bernie Sanders')\",\n",
       "       \"('Votes', 'Hillary Clinton')\", \"('Votes', 'Bernie Sanders')\",\n",
       "       \"('Votes', 'Hillary Clinton')\", \"('Votes', 'Bernie Sanders')\",\n",
       "       \"('Votes', 'Bernie Sanders')\", \"('Votes', 'Hillary Clinton')\",\n",
       "       \"('Votes', 'Bernie Sanders')\", \"('Votes', 'Hillary Clinton')\",\n",
       "       \"('Votes', 'Bernie Sanders')\", \"('Votes', 'Hillary Clinton')\",\n",
       "       \"('Votes', 'Bernie Sanders')\", \"('Votes', 'Hillary Clinton')\",\n",
       "       \"('Votes', 'Bernie Sanders')\", \"('Votes', 'Hillary Clinton')\",\n",
       "       \"('Votes', 'Hillary Clinton')\", \"('Votes', 'Hillary Clinton')\",\n",
       "       \"('Votes', 'Hillary Clinton')\", \"('Votes', 'Hillary Clinton')\",\n",
       "       \"('Votes', 'Hillary Clinton')\", \"('Votes', 'Hillary Clinton')\",\n",
       "       \"('Votes', 'Bernie Sanders')\", \"('Votes', 'Hillary Clinton')\",\n",
       "       \"('Votes', 'Bernie Sanders')\", \"('Votes', 'Hillary Clinton')\",\n",
       "       \"('Votes', 'Bernie Sanders')\", \"('Votes', 'Hillary Clinton')\",\n",
       "       \"('Votes', 'Hillary Clinton')\", \"('Votes', 'Hillary Clinton')\",\n",
       "       \"('Votes', 'Hillary Clinton')\", \"('Votes', 'Hillary Clinton')\",\n",
       "       \"('Votes', 'Hillary Clinton')\", \"('Votes', 'Hillary Clinton')\",\n",
       "       \"('Votes', 'Hillary Clinton')\", \"('Votes', 'Bernie Sanders')\",\n",
       "       \"('Votes', 'Bernie Sanders')\", \"('Votes', 'Hillary Clinton')\",\n",
       "       \"('Votes', 'Bernie Sanders')\", \"('Votes', 'Hillary Clinton')\",\n",
       "       \"('Votes', 'Hillary Clinton')\", \"('Votes', 'Hillary Clinton')\",\n",
       "       \"('Votes', 'Hillary Clinton')\", \"('Votes', 'Hillary Clinton')\",\n",
       "       \"('Votes', 'Bernie Sanders')\", \"('Votes', 'Bernie Sanders')\",\n",
       "       \"('Votes', 'Hillary Clinton')\", \"('Votes', 'Bernie Sanders')\",\n",
       "       \"('Votes', 'Hillary Clinton')\", \"('Votes', 'Bernie Sanders')\",\n",
       "       \"('Votes', 'Hillary Clinton')\", \"('Votes', 'Bernie Sanders')\",\n",
       "       \"('Votes', 'Hillary Clinton')\", \"('Votes', 'Hillary Clinton')\",\n",
       "       \"('Votes', 'Hillary Clinton')\", \"('Votes', 'Bernie Sanders')\",\n",
       "       \"('Votes', 'Hillary Clinton')\", \"('Votes', 'Hillary Clinton')\",\n",
       "       \"('Votes', 'Bernie Sanders')\", \"('Votes', 'Bernie Sanders')\",\n",
       "       \"('Votes', 'Bernie Sanders')\", \"('Votes', 'Bernie Sanders')\",\n",
       "       \"('Votes', 'Hillary Clinton')\", \"('Votes', 'Hillary Clinton')\",\n",
       "       \"('Votes', 'Hillary Clinton')\", \"('Votes', 'Hillary Clinton')\",\n",
       "       \"('Votes', 'Hillary Clinton')\", \"('Votes', 'Bernie Sanders')\",\n",
       "       \"('Votes', 'Hillary Clinton')\", \"('Votes', 'Bernie Sanders')\",\n",
       "       \"('Votes', 'Hillary Clinton')\", \"('Votes', 'Hillary Clinton')\",\n",
       "       \"('Votes', 'Bernie Sanders')\", \"('Votes', 'Hillary Clinton')\",\n",
       "       \"('Votes', 'Bernie Sanders')\", \"('Votes', 'Hillary Clinton')\",\n",
       "       \"('Votes', 'Bernie Sanders')\", \"('Votes', 'Hillary Clinton')\",\n",
       "       \"('Votes', 'Bernie Sanders')\", \"('Votes', 'Hillary Clinton')\",\n",
       "       \"('Votes', 'Bernie Sanders')\", \"('Votes', 'Bernie Sanders')\",\n",
       "       \"('Votes', 'Hillary Clinton')\", \"('Votes', 'Bernie Sanders')\",\n",
       "       \"('Votes', 'Bernie Sanders')\", \"('Votes', 'Hillary Clinton')\",\n",
       "       \"('Votes', 'Hillary Clinton')\", \"('Votes', 'Bernie Sanders')\",\n",
       "       \"('Votes', 'Bernie Sanders')\", \"('Votes', 'Bernie Sanders')\",\n",
       "       \"('Votes', 'Bernie Sanders')\", \"('Votes', 'Hillary Clinton')\",\n",
       "       \"('Votes', 'Hillary Clinton')\", \"('Votes', 'Hillary Clinton')\",\n",
       "       \"('Votes', 'Hillary Clinton')\", \"('Votes', 'Bernie Sanders')\",\n",
       "       \"('Votes', 'Hillary Clinton')\", \"('Votes', 'Hillary Clinton')\",\n",
       "       \"('Votes', 'Bernie Sanders')\", \"('Votes', 'Hillary Clinton')\",\n",
       "       \"('Votes', 'Hillary Clinton')\", \"('Votes', 'Bernie Sanders')\",\n",
       "       \"('Votes', 'Bernie Sanders')\", \"('Votes', 'Hillary Clinton')\",\n",
       "       \"('Votes', 'Hillary Clinton')\", \"('Votes', 'Hillary Clinton')\",\n",
       "       \"('Votes', 'Hillary Clinton')\", \"('Votes', 'Bernie Sanders')\",\n",
       "       \"('Votes', 'Hillary Clinton')\", \"('Votes', 'Hillary Clinton')\",\n",
       "       \"('Votes', 'Bernie Sanders')\", \"('Votes', 'Hillary Clinton')\",\n",
       "       \"('Votes', 'Hillary Clinton')\", \"('Votes', 'Hillary Clinton')\",\n",
       "       \"('Votes', 'Hillary Clinton')\", \"('Votes', 'Hillary Clinton')\",\n",
       "       \"('Votes', 'Bernie Sanders')\", \"('Votes', 'Bernie Sanders')\",\n",
       "       \"('Votes', 'Bernie Sanders')\", \"('Votes', 'Hillary Clinton')\",\n",
       "       \"('Votes', 'Bernie Sanders')\", \"('Votes', 'Hillary Clinton')\",\n",
       "       \"('Votes', 'Hillary Clinton')\", \"('Votes', 'Bernie Sanders')\",\n",
       "       \"('Votes', 'Bernie Sanders')\", \"('Votes', 'Bernie Sanders')\",\n",
       "       \"('Votes', 'Hillary Clinton')\", \"('Votes', 'Hillary Clinton')\",\n",
       "       \"('Votes', 'Hillary Clinton')\", \"('Votes', 'Hillary Clinton')\",\n",
       "       \"('Votes', 'Hillary Clinton')\", \"('Votes', 'Hillary Clinton')\",\n",
       "       \"('Votes', 'Hillary Clinton')\", \"('Votes', 'Hillary Clinton')\",\n",
       "       \"('Votes', 'Hillary Clinton')\", \"('Votes', 'Hillary Clinton')\",\n",
       "       \"('Votes', 'Hillary Clinton')\", \"('Votes', 'Hillary Clinton')\",\n",
       "       \"('Votes', 'Bernie Sanders')\", \"('Votes', 'Hillary Clinton')\",\n",
       "       \"('Votes', 'Bernie Sanders')\", \"('Votes', 'Bernie Sanders')\",\n",
       "       \"('Votes', 'Hillary Clinton')\", \"('Votes', 'Hillary Clinton')\",\n",
       "       \"('Votes', 'Hillary Clinton')\", \"('Votes', 'Hillary Clinton')\",\n",
       "       \"('Votes', 'Hillary Clinton')\", \"('Votes', 'Bernie Sanders')\",\n",
       "       \"('Votes', 'Hillary Clinton')\", \"('Votes', 'Bernie Sanders')\",\n",
       "       \"('Votes', 'Hillary Clinton')\", \"('Votes', 'Hillary Clinton')\",\n",
       "       \"('Votes', 'Hillary Clinton')\", \"('Votes', 'Hillary Clinton')\",\n",
       "       \"('Votes', 'Bernie Sanders')\", \"('Votes', 'Hillary Clinton')\",\n",
       "       \"('Votes', 'Hillary Clinton')\", \"('Votes', 'Bernie Sanders')\",\n",
       "       \"('Votes', 'Bernie Sanders')\", \"('Votes', 'Hillary Clinton')\",\n",
       "       \"('Votes', 'Bernie Sanders')\", \"('Votes', 'Hillary Clinton')\",\n",
       "       \"('Votes', 'Hillary Clinton')\", \"('Votes', 'Hillary Clinton')\",\n",
       "       \"('Votes', 'Hillary Clinton')\", \"('Votes', 'Hillary Clinton')\",\n",
       "       \"('Votes', 'Bernie Sanders')\", \"('Votes', 'Hillary Clinton')\",\n",
       "       \"('Votes', 'Hillary Clinton')\", \"('Votes', 'Bernie Sanders')\",\n",
       "       \"('Votes', 'Hillary Clinton')\", \"('Votes', 'Hillary Clinton')\",\n",
       "       \"('Votes', 'Hillary Clinton')\", \"('Votes', 'Bernie Sanders')\",\n",
       "       \"('Votes', 'Bernie Sanders')\", \"('Votes', 'Hillary Clinton')\",\n",
       "       \"('Votes', 'Hillary Clinton')\", \"('Votes', 'Hillary Clinton')\",\n",
       "       \"('Votes', 'Bernie Sanders')\", \"('Votes', 'Bernie Sanders')\",\n",
       "       \"('Votes', 'Hillary Clinton')\", \"('Votes', 'Hillary Clinton')\",\n",
       "       \"('Votes', 'Bernie Sanders')\", \"('Votes', 'Hillary Clinton')\",\n",
       "       \"('Votes', 'Hillary Clinton')\", \"('Votes', 'Hillary Clinton')\",\n",
       "       \"('Votes', 'Bernie Sanders')\", \"('Votes', 'Bernie Sanders')\",\n",
       "       \"('Votes', 'Bernie Sanders')\", \"('Votes', 'Hillary Clinton')\",\n",
       "       \"('Votes', 'Hillary Clinton')\", \"('Votes', 'Bernie Sanders')\",\n",
       "       \"('Votes', 'Hillary Clinton')\", \"('Votes', 'Hillary Clinton')\",\n",
       "       \"('Votes', 'Hillary Clinton')\", \"('Votes', 'Hillary Clinton')\",\n",
       "       \"('Votes', 'Hillary Clinton')\", \"('Votes', 'Hillary Clinton')\",\n",
       "       \"('Votes', 'Bernie Sanders')\", \"('Votes', 'Hillary Clinton')\",\n",
       "       \"('Votes', 'Bernie Sanders')\", \"('Votes', 'Hillary Clinton')\",\n",
       "       \"('Votes', 'Hillary Clinton')\", \"('Votes', 'Bernie Sanders')\",\n",
       "       \"('Votes', 'Bernie Sanders')\", \"('Votes', 'Bernie Sanders')\",\n",
       "       \"('Votes', 'Bernie Sanders')\", \"('Votes', 'Bernie Sanders')\"],\n",
       "      dtype=object)"
      ]
     },
     "execution_count": 14,
     "metadata": {},
     "output_type": "execute_result"
    }
   ],
   "source": [
    "# from sklearn.preprocessing import LabelEncoder\n",
    "\n",
    "# # Step 1: Label-encode data set\n",
    "# label_encoder = LabelEncoder()\n",
    "# label_encoder.fit(y)\n",
    "# encoded_y = label_encoder.transform(y)\n",
    "label_encoder.inverse_transform(y_test)"
   ]
  },
  {
   "cell_type": "markdown",
   "metadata": {},
   "source": [
    "### One-hot encoding"
   ]
  },
  {
   "cell_type": "code",
   "execution_count": 15,
   "metadata": {},
   "outputs": [
    {
     "name": "stderr",
     "output_type": "stream",
     "text": [
      "Using TensorFlow backend.\n"
     ]
    },
    {
     "data": {
      "text/plain": [
       "array([[0., 0., 1.],\n",
       "       [0., 0., 1.],\n",
       "       [0., 1., 0.],\n",
       "       ...,\n",
       "       [0., 0., 1.],\n",
       "       [0., 1., 0.],\n",
       "       [0., 0., 1.]], dtype=float32)"
      ]
     },
     "execution_count": 15,
     "metadata": {},
     "output_type": "execute_result"
    }
   ],
   "source": [
    "from keras.utils import to_categorical\n",
    "\n",
    "y_test_categorical = to_categorical(y_test)\n",
    "one_hot_y = to_categorical(y_train)\n",
    "one_hot_y\n"
   ]
  },
  {
   "cell_type": "code",
   "execution_count": 16,
   "metadata": {},
   "outputs": [
    {
     "data": {
      "text/plain": [
       "array([[0., 1., 0., 0., 0.],\n",
       "       [0., 1., 0., 0., 0.],\n",
       "       [0., 1., 0., 0., 0.],\n",
       "       ...,\n",
       "       [0., 1., 0., 0., 0.],\n",
       "       [0., 1., 0., 0., 0.],\n",
       "       [0., 1., 0., 0., 0.]], dtype=float32)"
      ]
     },
     "execution_count": 16,
     "metadata": {},
     "output_type": "execute_result"
    }
   ],
   "source": [
    "y_test_categorical2 = to_categorical(y_test2)\n",
    "one_hot_y2 = to_categorical(y_train2)\n",
    "one_hot_y2"
   ]
  },
  {
   "cell_type": "markdown",
   "metadata": {},
   "source": [
    "# Democrat Model\n",
    "#### deep neural network: 2 layers with 15 inputs, 30 hidden nodes, and 3 outputs"
   ]
  },
  {
   "cell_type": "code",
   "execution_count": 17,
   "metadata": {},
   "outputs": [
    {
     "name": "stdout",
     "output_type": "stream",
     "text": [
      "WARNING:tensorflow:From C:\\Users\\cobin\\Anaconda3\\lib\\site-packages\\tensorflow\\python\\framework\\op_def_library.py:263: colocate_with (from tensorflow.python.framework.ops) is deprecated and will be removed in a future version.\n",
      "Instructions for updating:\n",
      "Colocations handled automatically by placer.\n"
     ]
    }
   ],
   "source": [
    "from keras.models import Sequential\n",
    "from keras.layers import Dense\n",
    "\n",
    "deep_model = Sequential()\n",
    "deep_model.add(Dense(units=30, activation='relu', input_dim=15))\n",
    "# deep_model.add(Dense(units=300, activation='relu'))\n",
    "# deep_model.add(Dense(units=300, activation='relu'))\n",
    "# deep_model.add(Dense(units=300, activation='relu'))\n",
    "deep_model.add(Dense(units=30, activation='relu'))\n",
    "deep_model.add(Dense(units=3, activation='softmax'))"
   ]
  },
  {
   "cell_type": "code",
   "execution_count": 18,
   "metadata": {},
   "outputs": [
    {
     "name": "stdout",
     "output_type": "stream",
     "text": [
      "_________________________________________________________________\n",
      "Layer (type)                 Output Shape              Param #   \n",
      "=================================================================\n",
      "dense_1 (Dense)              (None, 30)                480       \n",
      "_________________________________________________________________\n",
      "dense_2 (Dense)              (None, 30)                930       \n",
      "_________________________________________________________________\n",
      "dense_3 (Dense)              (None, 3)                 93        \n",
      "=================================================================\n",
      "Total params: 1,503\n",
      "Trainable params: 1,503\n",
      "Non-trainable params: 0\n",
      "_________________________________________________________________\n"
     ]
    }
   ],
   "source": [
    "deep_model.summary()"
   ]
  },
  {
   "cell_type": "code",
   "execution_count": 19,
   "metadata": {},
   "outputs": [],
   "source": [
    "# # Load the model\n",
    "# from keras.models import load_model\n",
    "# deep_model = load_model(\"dems_model_trained.h5\")"
   ]
  },
  {
   "cell_type": "code",
   "execution_count": 20,
   "metadata": {},
   "outputs": [
    {
     "name": "stdout",
     "output_type": "stream",
     "text": [
      "WARNING:tensorflow:From C:\\Users\\cobin\\Anaconda3\\lib\\site-packages\\tensorflow\\python\\ops\\math_ops.py:3066: to_int32 (from tensorflow.python.ops.math_ops) is deprecated and will be removed in a future version.\n",
      "Instructions for updating:\n",
      "Use tf.cast instead.\n",
      "Epoch 1/40\n",
      " - 1s - loss: 0.8379 - acc: 0.6130\n",
      "Epoch 2/40\n",
      " - 0s - loss: 0.6538 - acc: 0.6749\n",
      "Epoch 3/40\n",
      " - 0s - loss: 0.6070 - acc: 0.6930\n",
      "Epoch 4/40\n",
      " - 0s - loss: 0.5924 - acc: 0.6930\n",
      "Epoch 5/40\n",
      " - 0s - loss: 0.5818 - acc: 0.6897\n",
      "Epoch 6/40\n",
      " - 0s - loss: 0.5758 - acc: 0.6954\n",
      "Epoch 7/40\n",
      " - 0s - loss: 0.5720 - acc: 0.7040\n",
      "Epoch 8/40\n",
      " - 0s - loss: 0.5662 - acc: 0.7054\n",
      "Epoch 9/40\n",
      " - 0s - loss: 0.5631 - acc: 0.7059\n",
      "Epoch 10/40\n",
      " - 0s - loss: 0.5618 - acc: 0.7112\n",
      "Epoch 11/40\n",
      " - 0s - loss: 0.5563 - acc: 0.7140\n",
      "Epoch 12/40\n",
      " - 0s - loss: 0.5606 - acc: 0.7107\n",
      "Epoch 13/40\n",
      " - 0s - loss: 0.5570 - acc: 0.7083\n",
      "Epoch 14/40\n",
      " - 0s - loss: 0.5519 - acc: 0.7121\n",
      "Epoch 15/40\n",
      " - 0s - loss: 0.5512 - acc: 0.7159\n",
      "Epoch 16/40\n",
      " - 0s - loss: 0.5476 - acc: 0.7092\n",
      "Epoch 17/40\n",
      " - 0s - loss: 0.5467 - acc: 0.7164\n",
      "Epoch 18/40\n",
      " - 0s - loss: 0.5425 - acc: 0.7231\n",
      "Epoch 19/40\n",
      " - 0s - loss: 0.5415 - acc: 0.7164\n",
      "Epoch 20/40\n",
      " - 0s - loss: 0.5402 - acc: 0.7164\n",
      "Epoch 21/40\n",
      " - 0s - loss: 0.5379 - acc: 0.7250\n",
      "Epoch 22/40\n",
      " - 0s - loss: 0.5382 - acc: 0.7193\n",
      "Epoch 23/40\n",
      " - 0s - loss: 0.5350 - acc: 0.7221\n",
      "Epoch 24/40\n",
      " - 0s - loss: 0.5323 - acc: 0.7188\n",
      "Epoch 25/40\n",
      " - 0s - loss: 0.5320 - acc: 0.7245\n",
      "Epoch 26/40\n",
      " - 0s - loss: 0.5289 - acc: 0.7216\n",
      "Epoch 27/40\n",
      " - 0s - loss: 0.5265 - acc: 0.7221\n",
      "Epoch 28/40\n",
      " - 0s - loss: 0.5266 - acc: 0.7269\n",
      "Epoch 29/40\n",
      " - 0s - loss: 0.5288 - acc: 0.7216\n",
      "Epoch 30/40\n",
      " - 0s - loss: 0.5230 - acc: 0.7321\n",
      "Epoch 31/40\n",
      " - 0s - loss: 0.5208 - acc: 0.7255\n",
      "Epoch 32/40\n",
      " - 0s - loss: 0.5191 - acc: 0.7293\n",
      "Epoch 33/40\n",
      " - 0s - loss: 0.5173 - acc: 0.7326\n",
      "Epoch 34/40\n",
      " - 0s - loss: 0.5154 - acc: 0.7240\n",
      "Epoch 35/40\n",
      " - 0s - loss: 0.5143 - acc: 0.7340\n",
      "Epoch 36/40\n",
      " - 0s - loss: 0.5120 - acc: 0.7321\n",
      "Epoch 37/40\n",
      " - 0s - loss: 0.5091 - acc: 0.7355\n",
      "Epoch 38/40\n",
      " - 0s - loss: 0.5077 - acc: 0.7374\n",
      "Epoch 39/40\n",
      " - 0s - loss: 0.5055 - acc: 0.7383\n",
      "Epoch 40/40\n",
      " - 0s - loss: 0.5040 - acc: 0.7369\n"
     ]
    },
    {
     "data": {
      "text/plain": [
       "<keras.callbacks.History at 0x2a351fb7630>"
      ]
     },
     "execution_count": 20,
     "metadata": {},
     "output_type": "execute_result"
    }
   ],
   "source": [
    "deep_model.compile(optimizer='adam',\n",
    "                   loss='categorical_crossentropy',\n",
    "                   metrics=['accuracy'])\n",
    "\n",
    "deep_model.fit(\n",
    "    X_train_scaled,\n",
    "    one_hot_y,\n",
    "    epochs=40,\n",
    "    shuffle=True,\n",
    "    verbose=2\n",
    ")"
   ]
  },
  {
   "cell_type": "code",
   "execution_count": 21,
   "metadata": {},
   "outputs": [],
   "source": [
    "# Save the model\n",
    "deep_model.save(\"dem_model_trained.h5\")"
   ]
  },
  {
   "cell_type": "markdown",
   "metadata": {},
   "source": [
    "# Republican Model\n",
    "#### deep neural network: 2 layers with 15 inputs, 30 hidden nodes, and 5 outputs"
   ]
  },
  {
   "cell_type": "code",
   "execution_count": 22,
   "metadata": {},
   "outputs": [],
   "source": [
    "deep_model2 = Sequential()\n",
    "deep_model2.add(Dense(units=30, activation='relu', input_dim=15))\n",
    "# deep_model2.add(Dense(units=400, activation='relu'))\n",
    "# deep_model2.add(Dense(units=300, activation='relu'))\n",
    "# deep_model2.add(Dense(units=200, activation='relu'))\n",
    "deep_model2.add(Dense(units=30, activation='relu'))\n",
    "deep_model2.add(Dense(units=5, activation='softmax'))"
   ]
  },
  {
   "cell_type": "code",
   "execution_count": 23,
   "metadata": {},
   "outputs": [
    {
     "name": "stdout",
     "output_type": "stream",
     "text": [
      "_________________________________________________________________\n",
      "Layer (type)                 Output Shape              Param #   \n",
      "=================================================================\n",
      "dense_4 (Dense)              (None, 30)                480       \n",
      "_________________________________________________________________\n",
      "dense_5 (Dense)              (None, 30)                930       \n",
      "_________________________________________________________________\n",
      "dense_6 (Dense)              (None, 5)                 155       \n",
      "=================================================================\n",
      "Total params: 1,565\n",
      "Trainable params: 1,565\n",
      "Non-trainable params: 0\n",
      "_________________________________________________________________\n"
     ]
    }
   ],
   "source": [
    "deep_model2.summary()"
   ]
  },
  {
   "cell_type": "code",
   "execution_count": 24,
   "metadata": {},
   "outputs": [],
   "source": [
    "# Load the model\n",
    "# from keras.models import load_model\n",
    "# deep_model2 = load_model(\"rep_model_trained.h5\")"
   ]
  },
  {
   "cell_type": "code",
   "execution_count": 25,
   "metadata": {},
   "outputs": [
    {
     "name": "stdout",
     "output_type": "stream",
     "text": [
      "Epoch 1/40\n",
      " - 1s - loss: 1.1276 - acc: 0.6645\n",
      "Epoch 2/40\n",
      " - 0s - loss: 0.7224 - acc: 0.7457\n",
      "Epoch 3/40\n",
      " - 0s - loss: 0.6490 - acc: 0.7501\n",
      "Epoch 4/40\n",
      " - 0s - loss: 0.6242 - acc: 0.7526\n",
      "Epoch 5/40\n",
      " - 0s - loss: 0.6110 - acc: 0.7565\n",
      "Epoch 6/40\n",
      " - 0s - loss: 0.5973 - acc: 0.7609\n",
      "Epoch 7/40\n",
      " - 0s - loss: 0.5911 - acc: 0.7634\n",
      "Epoch 8/40\n",
      " - 0s - loss: 0.5842 - acc: 0.7649\n",
      "Epoch 9/40\n",
      " - 0s - loss: 0.5751 - acc: 0.7668\n",
      "Epoch 10/40\n",
      " - 0s - loss: 0.5682 - acc: 0.7668\n",
      "Epoch 11/40\n",
      " - 0s - loss: 0.5644 - acc: 0.7732\n",
      "Epoch 12/40\n",
      " - 0s - loss: 0.5563 - acc: 0.7718\n",
      "Epoch 13/40\n",
      " - 0s - loss: 0.5532 - acc: 0.7772\n",
      "Epoch 14/40\n",
      " - 0s - loss: 0.5474 - acc: 0.7752\n",
      "Epoch 15/40\n",
      " - 0s - loss: 0.5418 - acc: 0.7767\n",
      "Epoch 16/40\n",
      " - 0s - loss: 0.5368 - acc: 0.7796\n",
      "Epoch 17/40\n",
      " - 0s - loss: 0.5315 - acc: 0.7836\n",
      "Epoch 18/40\n",
      " - 0s - loss: 0.5289 - acc: 0.7816\n",
      "Epoch 19/40\n",
      " - 0s - loss: 0.5237 - acc: 0.7811\n",
      "Epoch 20/40\n",
      " - 0s - loss: 0.5202 - acc: 0.7841\n",
      "Epoch 21/40\n",
      " - 0s - loss: 0.5169 - acc: 0.7865\n",
      "Epoch 22/40\n",
      " - 0s - loss: 0.5124 - acc: 0.7860\n",
      "Epoch 23/40\n",
      " - 0s - loss: 0.5110 - acc: 0.7865\n",
      "Epoch 24/40\n",
      " - 0s - loss: 0.5059 - acc: 0.7870\n",
      "Epoch 25/40\n",
      " - 0s - loss: 0.5031 - acc: 0.7919\n",
      "Epoch 26/40\n",
      " - 0s - loss: 0.5018 - acc: 0.7855\n",
      "Epoch 27/40\n",
      " - 0s - loss: 0.4987 - acc: 0.7895\n",
      "Epoch 28/40\n",
      " - 0s - loss: 0.4949 - acc: 0.7924\n",
      "Epoch 29/40\n",
      " - 0s - loss: 0.4940 - acc: 0.7924\n",
      "Epoch 30/40\n",
      " - 0s - loss: 0.4924 - acc: 0.7909\n",
      "Epoch 31/40\n",
      " - 0s - loss: 0.4881 - acc: 0.7934\n",
      "Epoch 32/40\n",
      " - 0s - loss: 0.4872 - acc: 0.7973\n",
      "Epoch 33/40\n",
      " - 0s - loss: 0.4837 - acc: 0.7988\n",
      "Epoch 34/40\n",
      " - 0s - loss: 0.4826 - acc: 0.7954\n",
      "Epoch 35/40\n",
      " - 0s - loss: 0.4819 - acc: 0.7954\n",
      "Epoch 36/40\n",
      " - 0s - loss: 0.4792 - acc: 0.7969\n",
      "Epoch 37/40\n",
      " - 0s - loss: 0.4767 - acc: 0.8008\n",
      "Epoch 38/40\n",
      " - 0s - loss: 0.4767 - acc: 0.7973\n",
      "Epoch 39/40\n",
      " - 0s - loss: 0.4737 - acc: 0.8013\n",
      "Epoch 40/40\n",
      " - 0s - loss: 0.4709 - acc: 0.7988\n"
     ]
    },
    {
     "data": {
      "text/plain": [
       "<keras.callbacks.History at 0x2a35228d4a8>"
      ]
     },
     "execution_count": 25,
     "metadata": {},
     "output_type": "execute_result"
    }
   ],
   "source": [
    "deep_model2.compile(optimizer='adam',\n",
    "                   loss='categorical_crossentropy',\n",
    "                   metrics=['accuracy'])\n",
    "\n",
    "deep_model2.fit(\n",
    "    X_train_scaled2,\n",
    "    one_hot_y2,\n",
    "    epochs=40,\n",
    "    shuffle=True,\n",
    "    verbose=2\n",
    ")"
   ]
  },
  {
   "cell_type": "code",
   "execution_count": 26,
   "metadata": {},
   "outputs": [],
   "source": [
    "# Save the model\n",
    "deep_model2.save(\"rep_model_trained.h5\")"
   ]
  },
  {
   "cell_type": "markdown",
   "metadata": {},
   "source": [
    "# Testing the models below"
   ]
  },
  {
   "cell_type": "markdown",
   "metadata": {},
   "source": [
    "# Reps"
   ]
  },
  {
   "cell_type": "code",
   "execution_count": 27,
   "metadata": {},
   "outputs": [
    {
     "name": "stdout",
     "output_type": "stream",
     "text": [
      "Republican Neural Network - Loss: 0.5835125514891295, Accuracy: 0.7433628318584071\n"
     ]
    }
   ],
   "source": [
    "model_loss, model_accuracy = deep_model2.evaluate(\n",
    "    X_test_scaled2, y_test_categorical2, verbose=2)\n",
    "print(\n",
    "    f\"Republican Neural Network - Loss: {model_loss}, Accuracy: {model_accuracy}\")"
   ]
  },
  {
   "cell_type": "markdown",
   "metadata": {},
   "source": [
    "0 = John Kasich\n",
    "1 = Donald Trump\n",
    "2 = Ben Carson\n",
    "3 = Marco Rubio\n",
    "4 = Ted Cruz"
   ]
  },
  {
   "cell_type": "code",
   "execution_count": 28,
   "metadata": {},
   "outputs": [
    {
     "data": {
      "text/plain": [
       "array([[2.0384035e-04, 4.7952735e-01, 7.4195871e-03, 1.9310355e-04,\n",
       "        5.1265603e-01],\n",
       "       [3.1415229e-06, 4.1070914e-01, 2.2741052e-04, 8.1651183e-03,\n",
       "        5.8089513e-01],\n",
       "       [4.0238155e-03, 3.3403900e-01, 8.9695612e-03, 6.4391699e-03,\n",
       "        6.4652848e-01],\n",
       "       [7.2760879e-05, 9.4946975e-01, 2.1399322e-04, 1.5060833e-05,\n",
       "        5.0228406e-02],\n",
       "       [1.2564084e-03, 4.8564655e-01, 9.2286609e-02, 9.2681736e-04,\n",
       "        4.1988367e-01]], dtype=float32)"
      ]
     },
     "execution_count": 28,
     "metadata": {},
     "output_type": "execute_result"
    }
   ],
   "source": [
    "deep_model2.predict(X_test_scaled2)[:5]"
   ]
  },
  {
   "cell_type": "code",
   "execution_count": 29,
   "metadata": {},
   "outputs": [
    {
     "data": {
      "text/plain": [
       "array([\"('Votes', 'Donald Trump')\", \"('Votes', 'Donald Trump')\",\n",
       "       \"('Votes', 'Ted Cruz')\", \"('Votes', 'Donald Trump')\",\n",
       "       \"('Votes', 'Donald Trump')\"], dtype=object)"
      ]
     },
     "execution_count": 29,
     "metadata": {},
     "output_type": "execute_result"
    }
   ],
   "source": [
    "label_encoder2.inverse_transform(y_test2)[:5]"
   ]
  },
  {
   "cell_type": "code",
   "execution_count": 30,
   "metadata": {},
   "outputs": [
    {
     "data": {
      "text/plain": [
       "array([\"('Votes', 'Ted Cruz')\", \"('Votes', 'Ted Cruz')\",\n",
       "       \"('Votes', 'Ted Cruz')\", \"('Votes', 'Donald Trump')\",\n",
       "       \"('Votes', 'Donald Trump')\", \"('Votes', 'Donald Trump')\",\n",
       "       \"('Votes', 'Donald Trump')\", \"('Votes', 'Donald Trump')\",\n",
       "       \"('Votes', 'Donald Trump')\", \"('Votes', 'Marco Rubio')\",\n",
       "       \"('Votes', 'Ted Cruz')\", \"('Votes', 'Donald Trump')\",\n",
       "       \"('Votes', 'Donald Trump')\", \"('Votes', 'Donald Trump')\",\n",
       "       \"('Votes', 'Donald Trump')\", \"('Votes', 'Donald Trump')\",\n",
       "       \"('Votes', 'Donald Trump')\", \"('Votes', 'Donald Trump')\",\n",
       "       \"('Votes', 'Donald Trump')\", \"('Votes', 'Ted Cruz')\",\n",
       "       \"('Votes', 'Donald Trump')\", \"('Votes', 'Ted Cruz')\",\n",
       "       \"('Votes', 'Donald Trump')\", \"('Votes', 'Donald Trump')\",\n",
       "       \"('Votes', 'Donald Trump')\", \"('Votes', 'Donald Trump')\",\n",
       "       \"('Votes', 'Donald Trump')\", \"('Votes', 'Donald Trump')\",\n",
       "       \"('Votes', 'Donald Trump')\", \"('Votes', 'Donald Trump')\",\n",
       "       \"('Votes', 'Donald Trump')\", \"('Votes', 'Ted Cruz')\",\n",
       "       \"('Votes', 'Donald Trump')\", \"('Votes', 'Donald Trump')\",\n",
       "       \"('Votes', 'Donald Trump')\", \"('Votes', 'Donald Trump')\",\n",
       "       \"('Votes', 'Donald Trump')\", \"('Votes', 'Donald Trump')\",\n",
       "       \"('Votes', 'Ted Cruz')\", \"('Votes', 'Ted Cruz')\",\n",
       "       \"('Votes', 'Donald Trump')\"], dtype=object)"
      ]
     },
     "execution_count": 30,
     "metadata": {},
     "output_type": "execute_result"
    }
   ],
   "source": [
    "label_encoder2.inverse_transform(np.argmax(deep_model2.predict(X_test_scaled2), axis=1))[:41]"
   ]
  },
  {
   "cell_type": "code",
   "execution_count": 31,
   "metadata": {},
   "outputs": [
    {
     "data": {
      "text/plain": [
       "array([4, 4, 4, 1, 1, 1, 1, 1, 1, 3, 4, 1, 1, 1, 1, 1, 1, 1, 1, 4, 1, 4,\n",
       "       1, 1, 1, 1, 1, 1, 1, 1, 1, 4, 1, 1, 1, 1, 1, 1, 4, 4, 1, 4, 1, 4,\n",
       "       1, 4, 1, 1, 1, 1, 1, 4, 1, 1, 1, 1, 1, 1, 1, 1, 1, 4, 1, 1, 1, 1,\n",
       "       1, 1, 1, 1, 4, 1, 1, 1, 1, 1, 1, 1, 1, 1, 1, 1, 1, 1, 1, 1, 1, 1,\n",
       "       4, 1, 1, 1, 1, 1, 1, 1, 1, 4, 1, 1, 4, 1, 1, 1, 1, 1, 1, 1, 1, 1,\n",
       "       1, 1, 1, 1, 1, 1, 4, 1, 1, 4, 1, 1, 1, 1, 1, 1, 1, 1, 1, 1, 1, 1,\n",
       "       1, 1, 1, 1, 1, 1, 1, 1, 1, 1, 4, 1, 1, 1, 1, 1, 1, 1, 1, 4, 1, 1,\n",
       "       1, 1, 1, 1, 1, 1, 1, 1, 1, 1, 1, 1, 4, 1, 4, 1, 1, 4, 1, 4, 1, 1,\n",
       "       4, 1, 1, 1, 1, 1, 1, 1, 4, 1, 1, 1, 1, 1, 1, 4, 1, 1, 1, 4, 1, 1,\n",
       "       1, 1, 1, 1, 1, 1, 1, 4, 1, 4, 1, 4, 1, 1, 1, 1, 1, 1, 1, 1, 1, 1,\n",
       "       4, 1, 4, 4, 4, 4, 1, 1, 1, 4, 1, 1, 4, 1, 1, 1, 1, 1, 1, 1, 1, 1,\n",
       "       1, 1, 4, 1, 1, 1, 1, 1, 4, 1, 1, 1, 1, 4, 1, 1, 1, 1, 4, 1, 1, 1,\n",
       "       1, 1, 1, 1, 1, 1, 1, 4, 1, 1, 1, 1, 1, 1, 4, 1, 1, 1, 1, 1, 1, 1,\n",
       "       1, 1, 1, 1, 1, 1, 1, 1, 1, 1, 1, 1, 1, 1, 1, 1, 1, 1, 1, 1, 1, 1,\n",
       "       1, 1, 1, 1, 1, 1, 1, 1, 1, 4, 1, 4, 1, 4, 4, 1, 1, 1, 1, 1, 1, 1,\n",
       "       1, 1, 1, 1, 1, 1, 1, 4, 1, 1, 1, 1, 4, 1, 1, 1, 1, 4, 1, 1, 1, 1,\n",
       "       1, 1, 1, 1, 1, 1, 1, 1, 4, 1, 1, 1, 1, 3, 1, 4, 1, 1, 1, 1, 1, 1,\n",
       "       1, 4, 1, 1, 1, 1, 1, 1, 1, 1, 1, 4, 4, 1, 4, 1, 4, 1, 1, 4, 4, 1,\n",
       "       1, 1, 1, 1, 1, 1, 1, 1, 1, 4, 1, 1, 1, 1, 1, 1, 4, 1, 1, 4, 3, 1,\n",
       "       1, 1, 1, 1, 1, 4, 1, 1, 1, 1, 1, 1, 4, 1, 1, 4, 1, 1, 1, 4, 4, 4,\n",
       "       1, 1, 4, 1, 4, 1, 1, 1, 1, 1, 1, 4, 1, 1, 1, 1, 1, 1, 4, 1, 1, 1,\n",
       "       1, 1, 1, 1, 1, 1, 1, 1, 1, 1, 1, 1, 1, 1, 1, 4, 1, 1, 1, 1, 4, 1,\n",
       "       1, 1, 3, 1, 4, 1, 4, 1, 1, 1, 1, 1, 1, 4, 1, 1, 4, 1, 1, 1, 4, 1,\n",
       "       1, 1, 1, 1, 1, 1, 1, 4, 1, 4, 1, 1, 1, 1, 1, 1, 4, 4, 4, 1, 4, 1,\n",
       "       1, 1, 4, 4, 1, 1, 1, 1, 4, 1, 1, 1, 1, 1, 1, 1, 1, 4, 1, 1, 1, 1,\n",
       "       4, 1, 1, 1, 1, 1, 1, 1, 1, 1, 1, 1, 1, 1, 1, 1, 4, 1, 1, 1, 1, 1,\n",
       "       1, 1, 1, 4, 1, 1, 1, 1, 4, 1, 1, 4, 1, 1, 1, 4, 3, 1, 1, 1, 1, 1,\n",
       "       1, 1, 3, 1, 1, 1, 1, 1, 1, 4, 1, 1, 1, 1, 1, 4, 1, 1, 4, 1, 1, 1,\n",
       "       1, 4, 1, 1, 1, 1, 1, 1, 1, 1, 1, 4, 1, 1, 1, 1, 1, 1, 1, 1, 4, 1,\n",
       "       1, 1, 1, 1, 1, 1, 1, 1, 1, 1, 1, 1, 1, 1, 1, 1, 1, 1, 4, 1, 4, 1,\n",
       "       1, 1, 1, 1, 1, 1, 1, 1, 1, 1, 1, 1, 1, 4, 1, 1, 4, 1], dtype=int64)"
      ]
     },
     "execution_count": 31,
     "metadata": {},
     "output_type": "execute_result"
    }
   ],
   "source": [
    "np.argmax(deep_model2.predict(X_test_scaled2), axis=1)"
   ]
  },
  {
   "cell_type": "code",
   "execution_count": 32,
   "metadata": {},
   "outputs": [
    {
     "data": {
      "text/plain": [
       "array([1, 1, 4, 1, 1, 1, 1, 1, 1, 1, 4, 1, 4, 1, 1, 1, 1, 1, 1, 4, 4, 4,\n",
       "       2, 4, 1, 1, 1, 1, 1, 1, 1, 1, 1, 1, 1, 4, 1, 2, 1, 3, 1, 4, 1, 4,\n",
       "       4, 1, 1, 1, 1, 4, 2, 4, 1, 1, 1, 1, 1, 1, 1, 4, 1, 4, 1, 1, 2, 1,\n",
       "       1, 1, 1, 1, 1, 1, 1, 1, 4, 1, 1, 1, 4, 4, 1, 4, 1, 1, 1, 1, 1, 1,\n",
       "       4, 3, 1, 1, 1, 1, 4, 1, 1, 2, 1, 1, 1, 4, 1, 4, 1, 1, 4, 1, 2, 1,\n",
       "       1, 1, 1, 1, 1, 1, 4, 1, 4, 4, 1, 1, 1, 1, 4, 1, 4, 1, 1, 1, 4, 1,\n",
       "       1, 1, 1, 1, 2, 1, 1, 1, 1, 1, 1, 1, 4, 1, 1, 1, 1, 1, 1, 4, 1, 1,\n",
       "       4, 1, 1, 1, 1, 1, 1, 1, 4, 1, 1, 1, 4, 1, 4, 4, 1, 4, 1, 4, 1, 1,\n",
       "       1, 1, 1, 1, 1, 1, 4, 1, 4, 1, 1, 1, 1, 4, 4, 1, 1, 1, 1, 4, 1, 1,\n",
       "       1, 2, 1, 1, 1, 1, 4, 1, 4, 4, 4, 1, 1, 1, 1, 1, 1, 1, 4, 1, 1, 1,\n",
       "       1, 1, 4, 4, 1, 1, 1, 1, 1, 4, 1, 1, 4, 4, 1, 1, 4, 1, 1, 4, 1, 1,\n",
       "       1, 1, 1, 4, 1, 1, 4, 1, 4, 1, 1, 1, 4, 1, 1, 1, 1, 1, 4, 1, 1, 1,\n",
       "       4, 1, 1, 4, 1, 1, 1, 1, 4, 1, 1, 1, 2, 1, 1, 1, 4, 1, 1, 1, 1, 1,\n",
       "       4, 1, 1, 1, 4, 1, 1, 1, 4, 1, 1, 1, 1, 1, 1, 1, 1, 1, 1, 4, 1, 1,\n",
       "       4, 1, 1, 1, 1, 1, 1, 4, 4, 4, 4, 4, 4, 4, 4, 1, 1, 1, 4, 4, 1, 1,\n",
       "       1, 1, 4, 1, 1, 1, 1, 4, 1, 1, 4, 1, 4, 4, 4, 1, 1, 4, 1, 1, 4, 1,\n",
       "       1, 1, 1, 1, 1, 4, 1, 4, 4, 1, 1, 1, 1, 1, 1, 1, 1, 1, 1, 1, 4, 4,\n",
       "       1, 4, 1, 1, 1, 4, 1, 1, 2, 1, 4, 1, 4, 4, 4, 1, 1, 1, 1, 4, 4, 1,\n",
       "       3, 1, 1, 1, 4, 1, 1, 1, 1, 1, 1, 1, 4, 1, 1, 1, 1, 1, 1, 1, 3, 1,\n",
       "       4, 1, 1, 1, 1, 4, 4, 1, 1, 1, 1, 1, 1, 1, 1, 4, 2, 1, 1, 1, 1, 4,\n",
       "       1, 1, 1, 4, 1, 1, 1, 1, 4, 1, 1, 1, 1, 1, 1, 1, 1, 4, 4, 2, 1, 1,\n",
       "       1, 1, 1, 1, 1, 1, 1, 1, 1, 1, 4, 1, 1, 1, 1, 1, 1, 4, 4, 4, 4, 1,\n",
       "       1, 1, 1, 1, 4, 1, 4, 1, 1, 1, 4, 1, 1, 4, 1, 1, 1, 1, 4, 1, 1, 1,\n",
       "       1, 4, 1, 1, 1, 1, 4, 1, 4, 4, 1, 1, 1, 1, 4, 1, 4, 1, 4, 1, 1, 1,\n",
       "       1, 1, 3, 4, 1, 1, 1, 1, 1, 1, 1, 1, 1, 1, 4, 1, 1, 1, 1, 4, 1, 1,\n",
       "       4, 1, 1, 1, 1, 1, 3, 1, 1, 4, 1, 1, 4, 1, 1, 1, 4, 1, 3, 1, 1, 4,\n",
       "       4, 1, 1, 1, 1, 1, 1, 1, 4, 1, 1, 1, 4, 4, 1, 4, 1, 1, 1, 4, 4, 1,\n",
       "       2, 1, 1, 1, 1, 1, 1, 1, 1, 1, 1, 1, 1, 1, 4, 1, 1, 1, 4, 4, 1, 1,\n",
       "       1, 1, 1, 1, 1, 4, 4, 1, 1, 1, 1, 1, 1, 4, 1, 1, 1, 1, 1, 1, 4, 1,\n",
       "       1, 1, 4, 1, 1, 1, 4, 1, 1, 1, 1, 1, 4, 1, 1, 1, 1, 1, 4, 1, 4, 1,\n",
       "       1, 1, 4, 4, 4, 4, 1, 1, 1, 1, 1, 1, 4, 1, 1, 1, 1, 1])"
      ]
     },
     "execution_count": 32,
     "metadata": {},
     "output_type": "execute_result"
    }
   ],
   "source": [
    "y_test2"
   ]
  },
  {
   "cell_type": "markdown",
   "metadata": {},
   "source": [
    "# Dems"
   ]
  },
  {
   "cell_type": "code",
   "execution_count": 33,
   "metadata": {},
   "outputs": [
    {
     "name": "stdout",
     "output_type": "stream",
     "text": [
      "Democrat Neural Network - Loss: 0.5854031416348049, Accuracy: 0.6771428574834552\n"
     ]
    }
   ],
   "source": [
    "model_loss, model_accuracy = deep_model.evaluate(\n",
    "    X_test_scaled, y_test_categorical, verbose=2)\n",
    "print(f\"Democrat Neural Network - Loss: {model_loss}, Accuracy: {model_accuracy}\")"
   ]
  },
  {
   "cell_type": "markdown",
   "metadata": {},
   "source": [
    "0 = No Preference\n",
    "1 = Bernie Sanders\n",
    "2 = Hillary Clinton"
   ]
  },
  {
   "cell_type": "code",
   "execution_count": 34,
   "metadata": {},
   "outputs": [
    {
     "data": {
      "text/plain": [
       "array([[6.6576337e-07, 1.0212541e-01, 8.9787394e-01],\n",
       "       [3.3153368e-03, 4.4709814e-01, 5.4958659e-01],\n",
       "       [4.4458293e-04, 5.4959488e-01, 4.4996062e-01],\n",
       "       [5.0600208e-03, 6.7414790e-01, 3.2079208e-01],\n",
       "       [1.9357961e-03, 5.7279384e-01, 4.2527041e-01]], dtype=float32)"
      ]
     },
     "execution_count": 34,
     "metadata": {},
     "output_type": "execute_result"
    }
   ],
   "source": [
    "deep_model.predict(X_test_scaled)[:5]"
   ]
  },
  {
   "cell_type": "code",
   "execution_count": 35,
   "metadata": {},
   "outputs": [
    {
     "data": {
      "text/plain": [
       "array([\"('Votes', 'Hillary Clinton')\", \"('Votes', 'Bernie Sanders')\",\n",
       "       \"('Votes', 'Bernie Sanders')\", \"('Votes', 'Hillary Clinton')\",\n",
       "       \"('Votes', 'Hillary Clinton')\"], dtype=object)"
      ]
     },
     "execution_count": 35,
     "metadata": {},
     "output_type": "execute_result"
    }
   ],
   "source": [
    "label_encoder.inverse_transform(y_test)[:5]"
   ]
  },
  {
   "cell_type": "code",
   "execution_count": 36,
   "metadata": {},
   "outputs": [
    {
     "data": {
      "text/plain": [
       "array([\"('Votes', 'Hillary Clinton')\", \"('Votes', 'Hillary Clinton')\",\n",
       "       \"('Votes', 'Bernie Sanders')\", \"('Votes', 'Bernie Sanders')\",\n",
       "       \"('Votes', 'Bernie Sanders')\"], dtype=object)"
      ]
     },
     "execution_count": 36,
     "metadata": {},
     "output_type": "execute_result"
    }
   ],
   "source": [
    "label_encoder.inverse_transform(np.argmax(deep_model.predict(X_test_scaled), axis=1))[:5]"
   ]
  },
  {
   "cell_type": "code",
   "execution_count": 37,
   "metadata": {},
   "outputs": [
    {
     "data": {
      "text/plain": [
       "array([2, 2, 1, 1, 1, 2, 2, 2, 2, 1, 1, 1, 1, 2, 2, 2, 1, 2, 1, 2, 2, 1,\n",
       "       1, 1, 1, 2, 2, 2, 2, 1, 1, 2, 1, 2, 1, 2, 1, 1, 1, 1, 1, 2, 1, 1,\n",
       "       1, 1, 2, 2, 2, 2, 1, 2, 2, 1, 1, 2, 2, 1, 2, 2, 1, 1, 1, 2, 2, 1,\n",
       "       2, 2, 2, 2, 1, 2, 2, 1, 2, 2, 2, 2, 2, 2, 1, 1, 1, 1, 2, 1, 2, 1,\n",
       "       2, 2, 2, 2, 2, 2, 2, 1, 2, 1, 2, 2, 1, 1, 2, 1, 2, 1, 2, 2, 1, 2,\n",
       "       2, 2, 2, 2, 1, 1, 1, 1, 1, 1, 2, 2, 1, 1, 2, 2, 2, 2, 1, 1, 1, 2,\n",
       "       2, 2, 2, 1, 2, 1, 2, 2, 2, 1, 2, 1, 1, 1, 2, 2, 2, 1, 2, 2, 1, 1,\n",
       "       2, 1, 2, 1, 1, 2, 1, 2, 2, 2, 1, 2, 2, 2, 2, 2, 2, 2, 2, 1, 2, 2,\n",
       "       1, 1, 2, 1, 1, 2, 2, 1, 2, 2, 2, 2, 1, 2, 1, 1, 1, 2, 2, 2, 2, 1,\n",
       "       2, 1, 2, 1, 2, 2, 2, 2, 1, 1, 1, 2, 2, 2, 1, 2, 1, 2, 1, 1, 2, 1,\n",
       "       1, 1, 2, 2, 2, 2, 1, 2, 2, 2, 2, 1, 1, 2, 1, 2, 1, 1, 1, 2, 1, 1,\n",
       "       1, 1, 1, 2, 2, 2, 1, 2, 2, 1, 2, 1, 2, 1, 2, 2, 2, 2, 1, 2, 1, 1,\n",
       "       1, 2, 2, 2, 1, 1, 2, 1, 2, 1, 2, 2, 2, 2, 1, 2, 2, 2, 2, 2, 1, 2,\n",
       "       2, 1, 2, 2, 2, 2, 2, 2, 2, 2, 2, 2, 2, 2, 2, 2, 1, 1, 2, 1, 2, 1,\n",
       "       2, 2, 1, 2, 1, 2, 1, 1, 2, 1, 2, 1, 2, 1, 2, 2, 2, 1, 1, 2, 2, 2,\n",
       "       2, 2, 2, 2, 2, 2, 2, 2, 1, 2, 1, 1, 2, 1, 1, 1, 1, 2, 2, 1, 2, 1,\n",
       "       2, 2, 1, 2, 2, 2, 2, 2, 1, 1, 1, 2, 2, 1, 2, 2, 2, 2, 1, 2, 2, 1,\n",
       "       2, 2, 2, 2, 2, 2, 1, 2, 1, 2, 2, 1, 2, 1, 2, 2, 1, 2, 1, 1, 2, 2,\n",
       "       2, 2, 1, 2, 2, 2, 2, 1, 2, 1, 2, 2, 2, 2, 1, 2, 1, 2, 2, 2, 2, 2,\n",
       "       2, 2, 1, 2, 1, 1, 1, 1, 1, 2, 2, 2, 1, 2, 1, 1, 2, 2, 2, 2, 2, 2,\n",
       "       2, 1, 2, 1, 2, 1, 1, 2, 1, 2, 1, 2, 2, 1, 1, 2, 2, 1, 2, 2, 1, 1,\n",
       "       1, 1, 1, 2, 1, 1, 1, 1, 1, 1, 1, 2, 2, 2, 2, 2, 1, 1, 2, 2, 2, 1,\n",
       "       2, 2, 2, 1, 2, 2, 2, 1, 2, 1, 2, 1, 2, 1, 2, 2, 1, 1, 1, 2, 1, 2,\n",
       "       1, 2, 2, 1, 2, 1, 2, 2, 2, 1, 2, 1, 1, 2, 1, 2, 2, 2, 2, 2, 1, 1,\n",
       "       2, 1, 1, 2, 2, 2, 2, 2, 2, 1, 1, 2, 2, 1, 2, 2, 2, 2, 1, 2, 2, 2,\n",
       "       1, 1, 1, 2, 2, 2, 2, 2, 1, 1, 2, 2, 1, 2, 1, 1, 1, 2, 2, 1, 2, 2,\n",
       "       2, 1, 2, 1, 1, 2, 2, 2, 2, 1, 2, 2, 2, 1, 2, 1, 2, 2, 2, 2, 2, 1,\n",
       "       1, 2, 2, 2, 2, 2, 1, 1, 2, 2, 2, 2, 2, 2, 1, 1, 1, 2, 2, 1, 1, 1,\n",
       "       2, 2, 2, 2, 2, 2, 2, 2, 2, 1, 2, 2, 2, 2, 2, 2, 2, 2, 2, 2, 2, 2,\n",
       "       2, 1, 2, 1, 2, 1, 1, 2, 1, 2, 2, 1, 1, 1, 1, 2, 2, 1, 2, 2, 1, 2,\n",
       "       2, 1, 2, 2, 2, 2, 1, 1, 2, 2, 1, 2, 2, 1, 1, 2, 1, 2, 2, 1, 1, 2,\n",
       "       2, 1, 1, 2, 2, 2, 2, 2, 2, 1, 2, 1, 1, 1, 2, 1, 1, 2], dtype=int64)"
      ]
     },
     "execution_count": 37,
     "metadata": {},
     "output_type": "execute_result"
    }
   ],
   "source": [
    "np.argmax(deep_model.predict(X_test_scaled), axis=1)"
   ]
  },
  {
   "cell_type": "code",
   "execution_count": 38,
   "metadata": {},
   "outputs": [
    {
     "data": {
      "text/plain": [
       "array([2, 1, 1, 2, 2, 2, 1, 2, 1, 2, 1, 1, 2, 2, 2, 2, 2, 2, 1, 1, 2, 1,\n",
       "       1, 2, 1, 1, 1, 1, 2, 1, 1, 1, 1, 2, 1, 2, 1, 1, 1, 2, 1, 1, 2, 1,\n",
       "       1, 2, 1, 2, 2, 2, 1, 2, 2, 2, 1, 2, 2, 1, 2, 1, 1, 2, 2, 2, 2, 2,\n",
       "       2, 2, 2, 1, 1, 1, 2, 2, 2, 1, 2, 1, 2, 2, 1, 1, 1, 1, 1, 2, 2, 1,\n",
       "       2, 1, 2, 1, 2, 2, 2, 2, 1, 1, 1, 2, 1, 1, 2, 1, 2, 2, 1, 2, 1, 1,\n",
       "       1, 2, 2, 2, 2, 1, 1, 2, 1, 2, 2, 2, 1, 1, 2, 2, 1, 1, 2, 1, 1, 1,\n",
       "       2, 2, 1, 1, 2, 1, 2, 2, 2, 1, 2, 1, 2, 1, 2, 2, 2, 1, 1, 2, 1, 1,\n",
       "       2, 2, 1, 1, 2, 1, 2, 2, 2, 0, 1, 1, 2, 1, 2, 2, 2, 1, 2, 2, 2, 2,\n",
       "       1, 2, 2, 1, 1, 2, 1, 2, 2, 2, 2, 2, 1, 1, 1, 1, 1, 2, 2, 2, 2, 2,\n",
       "       2, 1, 1, 2, 2, 1, 1, 1, 2, 2, 1, 2, 1, 1, 2, 2, 2, 1, 1, 1, 2, 2,\n",
       "       2, 2, 2, 2, 2, 2, 1, 1, 1, 2, 2, 1, 2, 2, 1, 1, 1, 1, 1, 1, 2, 2,\n",
       "       1, 1, 2, 2, 2, 1, 1, 2, 2, 2, 2, 1, 2, 1, 2, 2, 1, 2, 1, 2, 2, 1,\n",
       "       2, 2, 1, 2, 1, 1, 1, 1, 2, 2, 2, 2, 2, 1, 1, 2, 2, 1, 2, 1, 1, 1,\n",
       "       2, 2, 2, 2, 1, 2, 2, 2, 2, 1, 2, 2, 2, 2, 1, 1, 1, 2, 2, 2, 2, 2,\n",
       "       1, 2, 1, 2, 1, 1, 1, 2, 1, 1, 2, 1, 2, 2, 2, 1, 1, 2, 1, 2, 2, 2,\n",
       "       2, 2, 2, 2, 2, 2, 1, 2, 1, 1, 2, 1, 2, 2, 1, 2, 1, 2, 2, 1, 2, 2,\n",
       "       2, 2, 1, 2, 1, 2, 2, 1, 1, 1, 1, 1, 2, 2, 1, 2, 2, 2, 1, 1, 2, 1,\n",
       "       2, 2, 2, 1, 2, 2, 2, 2, 2, 2, 2, 1, 2, 2, 2, 2, 2, 2, 2, 2, 2, 2,\n",
       "       2, 2, 2, 1, 1, 2, 2, 2, 2, 1, 2, 2, 2, 2, 1, 2, 1, 1, 2, 2, 2, 2,\n",
       "       1, 1, 2, 2, 1, 1, 2, 1, 1, 2, 1, 1, 2, 1, 1, 1, 2, 2, 2, 2, 1, 2,\n",
       "       2, 1, 2, 2, 2, 2, 1, 2, 1, 2, 1, 2, 2, 1, 1, 2, 2, 1, 2, 2, 1, 1,\n",
       "       2, 2, 2, 2, 1, 1, 1, 2, 1, 1, 1, 2, 2, 2, 2, 1, 1, 1, 2, 1, 1, 2,\n",
       "       2, 2, 1, 2, 1, 2, 2, 1, 1, 1, 2, 1, 2, 1, 1, 2, 1, 2, 1, 2, 1, 2,\n",
       "       1, 2, 2, 2, 2, 2, 2, 2, 1, 2, 1, 2, 1, 2, 2, 2, 2, 2, 2, 2, 2, 1,\n",
       "       1, 2, 1, 2, 2, 2, 2, 2, 1, 1, 2, 1, 2, 1, 2, 1, 2, 2, 2, 1, 2, 2,\n",
       "       1, 1, 1, 1, 2, 2, 2, 2, 2, 1, 2, 1, 2, 2, 1, 2, 1, 2, 1, 2, 1, 2,\n",
       "       1, 1, 2, 1, 1, 2, 2, 1, 1, 1, 1, 2, 2, 2, 2, 1, 2, 2, 1, 2, 2, 1,\n",
       "       1, 2, 2, 2, 2, 1, 2, 2, 1, 2, 2, 2, 2, 2, 1, 1, 1, 2, 1, 2, 2, 1,\n",
       "       1, 1, 2, 2, 2, 2, 2, 2, 2, 2, 2, 2, 2, 2, 1, 2, 1, 1, 2, 2, 2, 2,\n",
       "       2, 1, 2, 1, 2, 2, 2, 2, 1, 2, 2, 1, 1, 2, 1, 2, 2, 2, 2, 2, 1, 2,\n",
       "       2, 1, 2, 2, 2, 1, 1, 2, 2, 2, 1, 1, 2, 2, 1, 2, 2, 2, 1, 1, 1, 2,\n",
       "       2, 1, 2, 2, 2, 2, 2, 2, 1, 2, 1, 2, 2, 1, 1, 1, 1, 1])"
      ]
     },
     "execution_count": 38,
     "metadata": {},
     "output_type": "execute_result"
    }
   ],
   "source": [
    "y_test"
   ]
  },
  {
   "cell_type": "code",
   "execution_count": null,
   "metadata": {},
   "outputs": [],
   "source": []
  }
 ],
 "metadata": {
  "anaconda-cloud": {},
  "kernelspec": {
   "display_name": "Python 3",
   "language": "python",
   "name": "python3"
  },
  "language_info": {
   "codemirror_mode": {
    "name": "ipython",
    "version": 3
   },
   "file_extension": ".py",
   "mimetype": "text/x-python",
   "name": "python",
   "nbconvert_exporter": "python",
   "pygments_lexer": "ipython3",
   "version": "3.6.6"
  },
  "varInspector": {
   "cols": {
    "lenName": 16,
    "lenType": 16,
    "lenVar": 40
   },
   "kernels_config": {
    "python": {
     "delete_cmd_postfix": "",
     "delete_cmd_prefix": "del ",
     "library": "var_list.py",
     "varRefreshCmd": "print(var_dic_list())"
    },
    "r": {
     "delete_cmd_postfix": ") ",
     "delete_cmd_prefix": "rm(",
     "library": "var_list.r",
     "varRefreshCmd": "cat(var_dic_list()) "
    }
   },
   "types_to_exclude": [
    "module",
    "function",
    "builtin_function_or_method",
    "instance",
    "_Feature"
   ],
   "window_display": false
  }
 },
 "nbformat": 4,
 "nbformat_minor": 2
}
